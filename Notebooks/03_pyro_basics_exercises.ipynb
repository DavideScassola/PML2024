{
 "cells": [
  {
   "cell_type": "markdown",
   "id": "cb9b8d76",
   "metadata": {},
   "source": [
    "<a href=\"https://colab.research.google.com/github/DavideScassola/PML2024/blob/main/Notebooks/03_pyro_basics_exercises.ipynb\" target=\"_parent\"><img src=\"https://colab.research.google.com/assets/colab-badge.svg\" alt=\"Open In Colab\"/></a>"
   ]
  },
  {
   "cell_type": "markdown",
   "metadata": {},
   "source": [
    "# Notebook 3: **Pyro** basics exercises"
   ]
  },
  {
   "cell_type": "code",
   "execution_count": 1,
   "metadata": {},
   "outputs": [],
   "source": [
    "import torch\n",
    "import seaborn as sns\n",
    "import matplotlib.pyplot as plt\n",
    "\n",
    "import pyro\n",
    "import pyro.distributions as dist"
   ]
  },
  {
   "cell_type": "markdown",
   "metadata": {},
   "source": [
    "### Exercise 1"
   ]
  },
  {
   "cell_type": "markdown",
   "metadata": {},
   "source": [
    "Consider the following model of the delay in getting to the workplace:\n",
    "\n",
    "$$A\\text{(alarm clock did not ring)} \\sim Bern(0.1)$$\n",
    "\n",
    "$$R\\text{(heavy rain)} \\sim Bern(0.15)$$\n",
    "\n",
    "$$T\\text{(traffic jam delay)} \\sim Exponential(\\mu = 5 + 10R) \\ \\ (\\text{minutes})$$\n",
    "\n",
    "$$D\\text{(total delay)} \\sim N(\\mu = T + 30A, \\sigma = 5) \\ \\ (\\text{minutes})$$\n",
    "\n",
    "1. Write the corresponding model in pyro\n",
    "2. plot the corersponding graphical model\n",
    "3. Sample 25000 samples from $p(A,R,T,D)$\n",
    "4. Estimate $p(D)$ from the simulated values\n",
    "5. Estimate $p(D | A)$ from the simulated values\n",
    "6. Estimate $p(A | D>30m)$ from the simulated values\n",
    "\n",
    "Hint: notice that `dist.Exponential` takes the rate as argument and not the mean"
   ]
  },
  {
   "cell_type": "markdown",
   "metadata": {},
   "source": [
    "#### Solution"
   ]
  },
  {
   "cell_type": "code",
   "execution_count": null,
   "metadata": {},
   "outputs": [],
   "source": []
  },
  {
   "cell_type": "markdown",
   "metadata": {},
   "source": [
    "### Exercise 2"
   ]
  },
  {
   "cell_type": "markdown",
   "metadata": {},
   "source": [
    "Do you remember this exercise?\n",
    "\n",
    "*Yuo are handed a fair coin with probability $0.5$ or an unfair coin (having $P(\\text{head})=0.8$) with probability $0.5$. Then you toss it two times, with results $H_1$ and $H_2$.*\n",
    "\n",
    "*Let's call $C$ the random variable describing if the coin is fair or not.*\n",
    "\n",
    "Now you can give an approximate answer to the following questions through simulation with pyro:\n",
    "\n",
    "1. Compute $p(h_1)$\n",
    "2. Compute $p(c | h_1)$\n",
    "3. Compute $p(h_2 | h_1)$"
   ]
  },
  {
   "cell_type": "markdown",
   "metadata": {},
   "source": [
    "#### Solution"
   ]
  },
  {
   "cell_type": "code",
   "execution_count": null,
   "metadata": {},
   "outputs": [],
   "source": []
  },
  {
   "cell_type": "markdown",
   "metadata": {},
   "source": [
    "### Exercise 3"
   ]
  },
  {
   "cell_type": "markdown",
   "metadata": {},
   "source": [
    "You have a set of $N$ observations $\\text{height}_i$ of height of $N$ individuals all coming from an unknown country and you want to build a model of it. \n",
    "A (pretty simplistic) model is:\n",
    "$$\\mu_{male} \\sim \\mathcal{N}(\\text{loc}=177, \\text{scale}=5) \\text{   (cm)}$$\n",
    "$$\\mu_{female} \\sim \\mathcal{N}(\\text{loc}=164, \\text{scale}=5)  \\text{   (cm)}$$\n",
    "$$S_i (\\text{sex}) \\sim Bern(0.5)$$\n",
    "$$H_i (\\text{height}) \\sim \\mathcal{N}(  \\text{loc}=\\mu,   \\text{scale}= \\frac{ \\mu}{40}) \\text{ where } \\mu = \\mu_{male} \\text{ if } S_i=\\text{male else } \\mu_{female}  \\text{   (cm)}$$\n",
    "\n",
    "1. Write the corresponding model in pyro (assuming you actually have some observations).\n",
    "2. Plot the corresponding graphical model.\n",
    "3. Fixing $N=10000$, sample from the model, show the sampled values of $\\mu_{male}$ and $\\mu_{female}$ and plot the histogram of $H_i$. Do it two times (for two different samples).\n",
    "4. Fixing $N=1$, estimate $p(\\text{height})$ by simulation (you can redefine the model if it is simpler for you).\n",
    "5. Fixing $N=1$, estimate $P(S = \\text{male}| \\text{height}> 180)$ by simulation."
   ]
  },
  {
   "cell_type": "markdown",
   "metadata": {},
   "source": [
    "#### Solution"
   ]
  },
  {
   "cell_type": "code",
   "execution_count": null,
   "metadata": {},
   "outputs": [],
   "source": []
  },
  {
   "cell_type": "markdown",
   "metadata": {},
   "source": [
    "### Exercise 4"
   ]
  },
  {
   "cell_type": "markdown",
   "metadata": {},
   "source": [
    "It seems there is a correlation between the average weight of an animal species and its average longevity."
   ]
  },
  {
   "cell_type": "markdown",
   "metadata": {},
   "source": [
    "<img src=\"https://qph.cf2.quoracdn.net/main-qimg-427d1e41011ad526b9b186daf661bb54-pjlq\" alt=\"drawing\" width=\"500\"/>"
   ]
  },
  {
   "cell_type": "markdown",
   "metadata": {},
   "source": [
    "Suppose you have a dataset of $N$ observations $(\\text{weight}_i, \\text{longevity}_i)$ relative to different species and that you are only intersted in $p(\\text{longevity} | \\text{weight})$ (so you are not intersted in $p(\\text{weight})$).\n",
    "\n",
    "Given the following linear model:\n",
    "$$p(\\text{longevity} | \\text{weight}, \\alpha, h, \\beta) = \\mathcal{N}(\\text{longevity}; \\text{loc} =  h + \\alpha \\cdot \\text{weight}; \\text{scale} = \\beta) $$\n",
    "\n",
    "where\n",
    "\n",
    "$$p(\\alpha) = \\mathcal{N}(\\alpha; \\text{loc} = 0, \\text{scale} = 0.15) $$\n",
    "$$p(h) = \\mathcal{N}(h; \\text{loc} = 0, \\text{scale} = 0.15) $$\n",
    "$$p(\\beta) = Exponential(\\beta; \\mu = 0.2) $$\n",
    "\n",
    "\n",
    "\n",
    "where longevity is in $\\log_{10}$ years and weight is in $\\log_{10}$ grams.\n",
    "\n",
    "1. Define the model in pyro supposing to have the following observed data and plot the corresponding graphical model.\n",
    "\n",
    "`observations = [(1.05, -0.3), (3.1, 0.84), (5.17, 2.1)]`\n",
    "\n",
    "2. Now suppose you don't have any observation, estimate $p(\\text{longevity} | \\text{weight=100g})$ and $p(\\text{longevity} | \\text{weight=1000kg})$ by simulation.\n",
    "3. Now suppose someone fitted a bayesian model given some data, and found that approximately:\n",
    "\n",
    "    $$p(\\alpha) = \\mathcal{N}(\\alpha; \\text{loc} = 0.2, \\text{scale} = 0.025) $$\n",
    "    $$p(h) = \\mathcal{N}(h; \\text{loc} = 0.2, \\text{scale} = 0.02) $$\n",
    "    $$\\beta \\approx 0.05 \\text{  (so this parameter was not fitted in a bayesian way)}$$\n",
    "\n",
    "    Given this new knowledge, estimate $p(\\text{longevity} | \\text{weight=100g})$ and $p(\\text{longevity} | \\text{weight=1000kg})$ by simulation."
   ]
  },
  {
   "cell_type": "markdown",
   "metadata": {},
   "source": [
    "#### Solution"
   ]
  },
  {
   "cell_type": "code",
   "execution_count": null,
   "metadata": {},
   "outputs": [],
   "source": []
  }
 ],
 "metadata": {
  "kernelspec": {
   "display_name": "Python 3",
   "language": "python",
   "name": "python3"
  },
  "language_info": {
   "codemirror_mode": {
    "name": "ipython",
    "version": 3
   },
   "file_extension": ".py",
   "mimetype": "text/x-python",
   "name": "python",
   "nbconvert_exporter": "python",
   "pygments_lexer": "ipython3",
   "version": "3.10.12"
  }
 },
 "nbformat": 4,
 "nbformat_minor": 2
}
