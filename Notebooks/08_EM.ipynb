{
 "cells": [
  {
   "cell_type": "markdown",
   "id": "0d1244d9",
   "metadata": {},
   "source": [
    "<a href=\"https://colab.research.google.com/github/DavideScassola/PML2024/blob/main/./Notebooks/08_EM.ipynb\" target=\"_parent\"><img src=\"https://colab.research.google.com/assets/colab-badge.svg\" alt=\"Open In Colab\"/></a>"
   ]
  },
  {
   "cell_type": "markdown",
   "metadata": {},
   "source": [
    "# Notebook 8: Expectation Maximization"
   ]
  },
  {
   "cell_type": "markdown",
   "metadata": {},
   "source": [
    "## The problem"
   ]
  },
  {
   "cell_type": "markdown",
   "metadata": {},
   "source": [
    "Given a model \n",
    "\n",
    "$$p(\\boldsymbol{X}, \\boldsymbol{Z} | \\boldsymbol{\\theta})$$\n",
    "\n",
    "where $\\boldsymbol{X}$ is observed, but $\\boldsymbol{Z}$ si latent and $\\boldsymbol{\\theta}$ is also unknown, the objective is to find:\n",
    "\n",
    "$$\\boldsymbol{\\theta}_{ML} = \\argmax_{\\boldsymbol{\\theta}} p(\\boldsymbol{X} | \\boldsymbol{\\theta})$$\n",
    "\n",
    "This could be intractable for two reasons:\n",
    "- you may need sum over all possible combinations of latent variables' assignments $\\boldsymbol{Z}$:\n",
    "$$p(\\boldsymbol{X} | \\boldsymbol{\\theta}) = \\sum_{\\boldsymbol{Z}} p(\\boldsymbol{X}, \\boldsymbol{Z} | \\boldsymbol{\\theta})$$\n",
    "- the summation could be tractable but not numerically stable (you cannot use the logarithm).\n",
    "\n",
    "\n",
    "\n",
    "**Remark:**\n",
    "What's the difference between the unknown latent variables $\\boldsymbol{z}_i$ and unknown parameters $\\boldsymbol{\\theta}$? The objetive is to find the $\\boldsymbol{\\theta}$ that better explains the data (maximum likelihood estimation), while inferring each $\\boldsymbol{z}_i$ is sometimes secondary.\n",
    "\n",
    "Example:\n",
    "\n",
    "Given the following dataset of points:"
   ]
  },
  {
   "cell_type": "code",
   "execution_count": 3,
   "metadata": {
    "metadata": {}
   },
   "outputs": [
    {
     "data": {
      "image/png": "[encoded data removed]",
      "text/plain": [
       "<Figure size 432x288 with 1 Axes>"
      ]
     },
     "metadata": {
      "needs_background": "light"
     },
     "output_type": "display_data"
    }
   ],
   "source": [
    "import numpy as np\n",
    "import matplotlib.pyplot as plt\n",
    "plt.rcParams['figure.dpi'] = 100\n",
    "\n",
    "x = np.load('data/em.npy')\n",
    "_ = plt.scatter(x[:, 0], x[:, 1], alpha=0.2)"
   ]
  },
  {
   "cell_type": "markdown",
   "metadata": {},
   "source": [
    "you want to model them according to a mixture of 3 gaussians:\n",
    "\n",
    "$$ p(\\boldsymbol{x}_i, z_i | \\boldsymbol{\\theta}) = p(\\boldsymbol{x}_i | z_i, \\boldsymbol{\\theta}) p(z_i | \\boldsymbol{\\theta})$$\n",
    "$$ p(\\boldsymbol{x}_i | z_i, \\boldsymbol{\\theta}) = \\mathcal{N}(\\boldsymbol{x}_i; \\mu_{z_i}, \\Sigma_{z_i})$$\n",
    "$$ P(z_i = k | \\boldsymbol{\\theta}) = \\pi_{k}$$\n",
    "\n",
    "where $z_i \\in \\{0, 1, 2\\}$ and $\\boldsymbol{\\theta} = (\\mu_{0}, \\Sigma_{0}, \\pi_0, \\mu_{1}, \\Sigma_{1}, \\pi_1, \\mu_{2}, \\Sigma_{2}, \\pi_2)$.\n",
    "\n",
    "\n",
    "<img src=\"imgs/EM1.png\" alt=\"drawing\" width=\"200\"/>\n",
    "\n",
    "You want to find the set of parameters $\\boldsymbol{\\theta}$ that maximizes $p(\\boldsymbol{x} | \\boldsymbol{\\theta})$, for example, since you are interested in the shapes and location of these three gaussians. Unfortunately this is intractable for numerical reasons.\n",
    "\n",
    "Expectation Maximization is an algorithm that allows to find an approximated solution to this problem."
   ]
  },
  {
   "cell_type": "markdown",
   "metadata": {},
   "source": [
    "## Expectation Maximization"
   ]
  },
  {
   "cell_type": "markdown",
   "metadata": {},
   "source": [
    "The idea of EM is to alternate the estimation of the distribution of latent variables $q(\\boldsymbol{Z})$ keeping fixed the global parameters $\\boldsymbol{\\theta}$ (Expectation step), to the optimization of the global parameters keeping fixed the distribution of latent variables (Maximization step) until convergence is reached.\n",
    "\n",
    "**EM algorithm:**\n",
    "1. Initialize $\\boldsymbol{\\theta}$\n",
    "2. Repeat until convergence:\n",
    "    - E step: $q(\\boldsymbol{Z}) \\leftarrow p(\\boldsymbol{Z} | \\boldsymbol{X}, \\boldsymbol{\\theta})$\n",
    "    - M step: $\\boldsymbol{\\theta} \\leftarrow \\argmax_{\\boldsymbol{\\theta}} \\mathbb{E}_{q(\\boldsymbol{Z})} p(\\boldsymbol{X}, \\boldsymbol{Z} | \\boldsymbol{\\theta})$"
   ]
  },
  {
   "cell_type": "markdown",
   "metadata": {},
   "source": [
    "### Expectation step\n",
    "We assume $p(\\boldsymbol{Z} | \\boldsymbol{X}, \\boldsymbol{\\theta})$ is easy to compute, in this case we have:\n",
    "$$p(\\boldsymbol{Z} | \\boldsymbol{X}, \\boldsymbol{\\theta}) = \\prod_i p(\\boldsymbol{z}_i | \\boldsymbol{x}_i, \\boldsymbol{\\theta})$$\n",
    "where:\n",
    "$$p(\\boldsymbol{z}_i | \\boldsymbol{x}_i, \\boldsymbol{\\theta}) \\propto p(\\boldsymbol{x}_i | \\boldsymbol{z}_i, \\boldsymbol{\\theta})p(\\boldsymbol{z}_i | \\boldsymbol{\\theta})$$\n",
    "so the distribution for every $\\boldsymbol{z}_i$ is:\n",
    "$$q(\\boldsymbol{z}_i) \\propto p(\\boldsymbol{x}_i | \\boldsymbol{z}_i, \\boldsymbol{\\theta})p(\\boldsymbol{z}_i | \\boldsymbol{\\theta})$$"
   ]
  },
  {
   "cell_type": "markdown",
   "metadata": {},
   "source": [
    "### Maximization step\n",
    "Having fixed $q(\\boldsymbol{z}_i) \\forall i$, we find $\\boldsymbol{\\theta} = \\argmax_{\\boldsymbol{\\theta}} \\mathbb{E}_{q(\\boldsymbol{Z})} p(\\boldsymbol{X}, \\boldsymbol{Z} | \\boldsymbol{\\theta})$.\n",
    "\n",
    "Depending on the problem, this can be done analytically or by optimization."
   ]
  },
  {
   "cell_type": "markdown",
   "metadata": {},
   "source": [
    "### Gaussian mixture example"
   ]
  },
  {
   "cell_type": "markdown",
   "metadata": {},
   "source": [
    "Let's go back to the previous example:\n",
    "\n",
    "\\begin{align*}\n",
    "& p(\\boldsymbol{x}_i | z_i, \\boldsymbol{\\theta}) = \\mathcal{N}(\\boldsymbol{x}_i; \\mu_{z_i}, \\Sigma_{z_i}) \\\\\n",
    "& P(z_i = k | \\boldsymbol{\\theta}) = \\pi_{k}\n",
    "\\end{align*}\n",
    "\n",
    "where $z_i \\in \\{0, 1, 2\\}$ and $\\boldsymbol{\\theta} = (\\mu_{0}, \\Sigma_{0}, \\pi_0, \\mu_{1}, \\Sigma_{1}, \\pi_1, \\mu_{2}, \\Sigma_{2}, \\pi_2)$.\n"
   ]
  },
  {
   "cell_type": "markdown",
   "metadata": {},
   "source": [
    "**Expectation step:**"
   ]
  },
  {
   "cell_type": "code",
   "execution_count": null,
   "metadata": {
    "metadata": {}
   },
   "outputs": [],
   "source": [
    "from typing import Tuple\n",
    "import torch\n",
    "from torch.distributions import MultivariateNormal\n",
    "\n",
    "# This is just an example of how the parameters theta are structured\n",
    "theta_example = {'pi': torch.tensor([1/3, 1/3, 1/3]),\n",
    "              \n",
    "                'mean': torch.tensor([[0., 0.],\n",
    "                                      [0., 0.],\n",
    "                                      [0., 0.]]),\n",
    "                \n",
    "                'cov': torch.tensor([[[1., 0.],\n",
    "                                      [0., 1.]],\n",
    "                                     \n",
    "                                     [[1., 0.],\n",
    "                                      [0., 1.]],\n",
    "                                        \n",
    "                                      [[1., 0.],\n",
    "                                       [0., 1.]]])}\n",
    "\n",
    "\n",
    "# p(X|Z, theta)\n",
    "def p_x_given_z_theta(x: torch.Tensor, z, theta: dict) -> torch.Tensor:\n",
    "    # TODO\n",
    "    return ...\n",
    "    \n",
    "\n",
    "# p(zZ|theta)\n",
    "def p_z_given_theta(z:  torch.Tensor, theta: dict)-> torch.Tensor:\n",
    "    # TODO\n",
    "    return ...\n",
    "\n",
    "\n",
    "# p(Z|X, theta)\n",
    "def p_z_given_x_theta(x:  torch.Tensor, theta: dict) -> torch.Tensor:\n",
    "    q_z = ...  # TODO\n",
    "    q_z = q_z / q_z.sum(dim=1, keepdim=True) # normalize\n",
    "    return q_z"
   ]
  },
  {
   "cell_type": "markdown",
   "metadata": {},
   "source": [
    "**Maximization Step:**\n",
    "\n",
    "For the Gaussian Mixture case, the maximization step can be done analytically. It consists in computing weighted means and covariances:\n",
    "\n",
    "\\begin{gather*}\n",
    "    \\mu_j^{new} = \\frac{1}{N_j} \\sum_n q(z_{n}=j)x_n \\\\\n",
    "    \\Sigma_j^{new} = \\frac{1}{N_j} \\sum_n q(z_{n}=j) (x_n - \\mu_j^{new})^T(x_n - \\mu_j^{new}) \\\\\n",
    "    \\pi_j^{new} = \\frac{N_j}{N}, \\qquad N_j = \\sum_{n=1}^N q(z_{n} = j)\n",
    "\\end{gather*}"
   ]
  },
  {
   "cell_type": "code",
   "execution_count": null,
   "metadata": {},
   "outputs": [],
   "source": [
    "# This function returns the weighted mean and covariance of x, given weights w\n",
    "def weighted_mean_cov(x: torch.Tensor, w: torch.Tensor) -> Tuple[torch.Tensor, torch.Tensor]:\n",
    "    w = w.unsqueeze(1) / w.sum()\n",
    "    mean = (x*w).sum(0)\n",
    "    centered_x = x - mean\n",
    "    cov = (centered_x.unsqueeze(1) * centered_x.unsqueeze(2) * w.reshape(-1,1,1)).sum(0)\n",
    "    return mean, cov\n",
    "\n",
    "\n",
    "def update_theta(x: torch.Tensor, q_z: torch.Tensor) -> dict:\n",
    "    # TODO\n",
    "    return ..."
   ]
  },
  {
   "cell_type": "markdown",
   "metadata": {},
   "source": [
    "**EM algorithm**"
   ]
  },
  {
   "cell_type": "code",
   "execution_count": null,
   "metadata": {},
   "outputs": [],
   "source": [
    "from tqdm.notebook import tqdm\n",
    "\n",
    "def EM(x, *, theta_init: dict, max_iter: int = 100):\n",
    "    x_tensor = torch.tensor(x, dtype=torch.float32)\n",
    "    theta = theta_init\n",
    "    for _ in tqdm(range(max_iter)):\n",
    "        # TODO\n",
    "        ...\n",
    "        ...\n",
    "    return theta, q_z"
   ]
  },
  {
   "cell_type": "markdown",
   "metadata": {},
   "source": [
    "Now use EM to find $\\theta$ and $p(Z | \\boldsymbol{X}, \\theta)$"
   ]
  },
  {
   "cell_type": "code",
   "execution_count": null,
   "metadata": {
    "metadata": {}
   },
   "outputs": [],
   "source": [
    "theta_init = {'pi': torch.tensor([1/3, 1/3, 1/3]),\n",
    "              \n",
    "                'mean': torch.tensor(...), # TODO\n",
    "                \n",
    "                'cov': torch.tensor([[[1., 0.],\n",
    "                                      [0., 1.]],\n",
    "                                     \n",
    "                                     [[1., 0.],\n",
    "                                      [0., 1.]],\n",
    "                                        \n",
    "                                      [[1., 0.],\n",
    "                                       [0., 1.]]])*100}\n",
    "\n",
    "theta, q_z = EM(x, theta_init = theta_init, max_iter=100)\n",
    "\n",
    "print(theta)"
   ]
  },
  {
   "cell_type": "markdown",
   "metadata": {},
   "source": [
    "Let's plot every point with $p(z_i | \\boldsymbol{x}_i, \\theta)$"
   ]
  },
  {
   "cell_type": "code",
   "execution_count": null,
   "metadata": {},
   "outputs": [],
   "source": [
    "_ = plt.scatter(x[:, 0], x[:, 1], c= q_z.numpy(), alpha=0.8)"
   ]
  },
  {
   "cell_type": "markdown",
   "metadata": {},
   "source": [
    "Let's compare it with K-means"
   ]
  },
  {
   "cell_type": "code",
   "execution_count": null,
   "metadata": {},
   "outputs": [],
   "source": [
    "from sklearn.cluster import KMeans\n",
    "\n",
    "kmeans = KMeans(n_clusters=3, n_init='auto', random_state=0)\n",
    "kmeans.fit(x)\n",
    "_ = plt.scatter(x[:, 0], x[:, 1], c=kmeans.labels_, cmap='viridis')"
   ]
  },
  {
   "cell_type": "markdown",
   "metadata": {},
   "source": [
    "It is common to use the result of k-means to initialize the parameters for EM:"
   ]
  },
  {
   "cell_type": "code",
   "execution_count": null,
   "metadata": {},
   "outputs": [],
   "source": [
    "z = kmeans.labels_\n",
    "\n",
    "theta_init_k_means = {\n",
    "                      'pi': ... , #TODO\n",
    "                      'mean': ..., #TODO\n",
    "                      'cov': ..., #TODO\n",
    "                     }\n",
    "\n",
    "theta, q_z = EM(torch.tensor(x), theta_init_k_means)\n",
    "_ = plt.scatter(x[:, 0], x[:, 1], c= q_z.numpy(), alpha=0.8)"
   ]
  }
 ],
 "metadata": {
  "kernelspec": {
   "display_name": "Python 3",
   "language": "python",
   "name": "python3"
  },
  "language_info": {
   "codemirror_mode": {
    "name": "ipython",
    "version": 3
   },
   "file_extension": ".py",
   "mimetype": "text/x-python",
   "name": "python",
   "nbconvert_exporter": "python",
   "pygments_lexer": "ipython3",
   "version": "3.10.12"
  }
 },
 "nbformat": 4,
 "nbformat_minor": 4
}
