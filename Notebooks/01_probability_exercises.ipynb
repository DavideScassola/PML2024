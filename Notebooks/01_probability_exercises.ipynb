{
 "cells": [
  {
   "cell_type": "markdown",
   "metadata": {},
   "source": [
    "# Notebook 1: **Probability** basics exercises\n",
    "\n",
    "<a target=\"_blank\" href=\"https://colab.research.google.com/github/DavideScassola/PML2024/blob/main/Notebooks/01_exercises.ipynb\"><img src=\"https://colab.research.google.com/assets/colab-badge.svg\" alt=\"Open in Colab\"/></a>"
   ]
  },
  {
   "cell_type": "markdown",
   "metadata": {},
   "source": [
    "### **Exercise 1**"
   ]
  },
  {
   "cell_type": "markdown",
   "metadata": {},
   "source": [
    "We would like to estimate the effect of a drug D (D=1 the patient took the drug, D=0 didn't) on heart attack H (H=1 had heart attack, H=0 didn't) by looking at an observational dataset which contains also information about the sex of the patients (S = M/F).\n",
    "\n",
    "- Control group (D=0):\n",
    "\n",
    "\n",
    "|        | H = 1 | H = 0 |\n",
    "|--------|-------|-------|\n",
    "| Female |   1   |   19  |\n",
    "| Male   |   12  |   28  |\n",
    "| Total  |   13  |   47  |\n",
    "\n",
    " - Treatment group (D=1):\n",
    "\n",
    "|        | H = 1 | H = 0 |\n",
    "|--------|-------|-------|\n",
    "| Female |   3   |   37  |\n",
    "| Male   |   8   |   12  |\n",
    "| Total  |   11  |   49  |\n",
    "\n",
    "- Among males, what is the difference between the probability of having heart attack given that the patient took the drug and given that he didn't? Is the treatment working?\n",
    "- What about females?\n",
    "- What happens if you consider the whole population? \n",
    "- How can you explain that?"
   ]
  },
  {
   "cell_type": "markdown",
   "metadata": {},
   "source": [
    "**Solution**\n",
    "- P(H=1|D=0, S=M) - P(H=1|D=1, S=M) = 12/(12+28) - 8/(8+12) = -0.1 -> Treatment is increasing the risk of heart attack\n",
    "- P(H=1|D=0, S=F) - P(H=1|D=1, S=F) = 1/(1+19) - 3/(3+37) = -0.025 -> Treatment is increasing the risk of heart attack\n",
    "- P(H=1|D=0) - P(H=1|D=1) = 13/(13+47) - 11/(11+49) = 0.033 -> Treatment is preventing heart attack\n",
    "- This is an example of Simpson's paradox: the treatment seems to be bad for males, bad for females but good for people! To solve it, we have to look at the data generating process: gender is affecting both the choice whether to take the drug or not and the risk of heart attack and has to be handled as a confounder."
   ]
  },
  {
   "cell_type": "markdown",
   "metadata": {},
   "source": [
    "### **Exercise 2**"
   ]
  },
  {
   "cell_type": "markdown",
   "metadata": {},
   "source": [
    "Donated blood is screened for AIDS. Suppose the test has 99% accuracy,\n",
    "and that one in ten thousand people in your age group are HIV positive. The\n",
    "test has a 5% false positive rating, as well. Suppose the test screens you as\n",
    "positive. What is the probability you have AIDS? Is it 99%? (Hint: 99% refers\n",
    "to P(test positive|you have AIDS). You want to find P(you have AIDS|test\n",
    "is positive)."
   ]
  },
  {
   "cell_type": "markdown",
   "metadata": {},
   "source": [
    "#### Solution\n",
    "$A := \\text{you have AIDS}$\n",
    "\n",
    "$T := \\text{the test is positive}$\n",
    "\n",
    "$$P(A|T) = \\frac{P(T|A)P(A)}{P(T)}$$\n",
    "\n",
    "$$P(T|A) = 0.99 \\ \\text{(the test has 99\\% accuracy)}$$\n",
    "\n",
    "\n",
    "\n",
    "\n",
    "$$P(A) = 0.0001 \\ \\text{(one in ten thousand people in your age group are HIV positive)}$$ \n",
    "\n",
    "$$P(T) = P(T | A)P(A) + P(T | \\lnot A)P(\\lnot A) \\ \\text{(by marginalization/partition law)}$$\n",
    "\n",
    "$$P(T | \\lnot A) = 0.05 \\ \\text{(The test has a 5\\% false positive rating)} $$\n",
    "\n",
    "$$P(T) = P(T | A)P(A) + P(T | \\lnot A)P(\\lnot A) = 0.99 \\cdot 0.0001 + 0.05 \\cdot (1-0.0001)$$\n",
    "\n",
    "Then\n",
    "\n",
    "$$P(A|T) = \\frac{P(T|A)P(A)}{P(T)} = \\frac{0.99 \\cdot     0.0001}{0.99 \\cdot 0.0001 + 0.05 \\cdot (1-0.0001)} \\approx 0.002$$\n",
    "\n",
    "\n"
   ]
  },
  {
   "cell_type": "markdown",
   "metadata": {},
   "source": [
    "### **Exercise 3**"
   ]
  },
  {
   "cell_type": "markdown",
   "metadata": {},
   "source": [
    "Yuo are given a fair coin with probability $0.5$ or an unfair coin (having $P(\\text{head})=0.8$) with probability $0.5$. Then you toss it two times, with results $H_1$ and $H_2$.\n",
    "\n",
    "Let's call $C$ the random variable describing if the coin is fair or not.\n",
    "1. Is $H_2$ independent from $H_1$?\n",
    "2. Factorize $p(h_1, h_2 | c)$ (write it as a product of simpler terms)\n",
    "3. Factorize $p(h_1, h_2, c)$\n",
    "4. Compute $p(h_1)$\n",
    "5. Compute $p(c | h_1)$\n",
    "6. Compute $p(h_2 | h_1)$\n"
   ]
  },
  {
   "cell_type": "markdown",
   "metadata": {},
   "source": [
    "#### Solution\n",
    "\n",
    "1. $H_1$ and $H_2$ are not independent, but they are conditionally independent given $C$\n",
    "2. $ p(h_1, h_2 | c) = p(h_1|c)p(h_2|c) $\n",
    "where $p(h_1|c) = Bern(h_1; c)$ and $p(h_2|c) = Bern(h_2; c)$\n",
    "3. $ p(h_1, h_2, c) = p(c)p(h_1, h_2|c) = p(c)p(h_1|c)p(h_2|c) $\n",
    "where $p(c) = Bern(c; 0.5)$\n",
    "\n",
    "4.\n",
    "\n",
    "\\begin{align*}\n",
    "p(h_1) &= \\sum_{c \\in \\{ \\text{fair}, \\text{unfair}\\}} p(h_1, c) = \\sum_{c \\in \\{ \\text{fair}, \\text{unfair}\\}} p(h_1 | c)p(c) \\\\\n",
    "&= P(C \\text{ is fair})p(h_1 | C \\text{ is fair}) + P(C \\text{ is unfair})p(h_1 | C \\text{ is unfair}) \\\\\n",
    "&= \\frac{1}{2}p(h_1 | C \\text{ is fair}) + \\frac{1}{2}p(h_1 | C \\text{ is unfair})\n",
    "\\end{align*}\n",
    "\n",
    "\\begin{align*}\n",
    "P(H_1 \\text{ is head}) &= \\frac{1}{2}P(H_1 \\text{ is head} | C \\text{ is fair}) + \\frac{1}{2}P(H_1 \\text{ is head} | C \\text{ is unfair}) \\\\\n",
    "&= 0.5 \\cdot (0.5 + 0.8) = 0.65\n",
    "\\end{align*}\n",
    "\n",
    "then $p(h_1) = Bern(h_1; 0.65)$\n",
    "\n",
    "5.\n",
    "\n",
    "\\begin{align*}\n",
    "P(C \\text{ is fair} | H_1 \\text{ is head} ) = \\frac{P(H_1 \\text{ is head} | C \\text{ is fair})P(C \\text{ is fair})}{P(H_1 \\text{ is head})} = \\frac{0.5 \\cdot 0.5}{0.65} \\approx 0.38\n",
    "\\end{align*}\n",
    "\n",
    "\\begin{align*}\n",
    "P(C \\text{ is fair} | H_1 \\text{ is tail} ) &= \\frac{0.5 \\cdot 0.5}{0.35} \\approx 0.71\n",
    "\\end{align*}\n",
    "\n",
    "then \n",
    "\\begin{align*}\n",
    "p(c | h_1) = Bern(c; \\sim 0.38) \\text{ if } h_1 \\text{=head, else } Bern(c; \\sim 0.71)\n",
    "\\end{align*}\n",
    "\n",
    "6.\n",
    "\n",
    "\\begin{align*}\n",
    "p(h_2 | h_1) &=  \\sum_{c \\in \\{ \\text{fair}, \\text{unfair}\\}} p(h_2, c | h_1) = \\sum_{c \\in \\{ \\text{fair}, \\text{unfair}\\}} p(h_2,| c, h_1)p(c|h_1) = \\sum_{c \\in \\{ \\text{fair}, \\text{unfair}\\}} p(h_2,| c) p(c|h_1)\n",
    "\\end{align*}\n",
    "\n",
    "\\begin{align*}\n",
    "P(H_2 \\text{ is head} | H_1 \\text{ is head}) &= \\sum_{c \\in \\{ \\text{fair, unfair}\\}} P(H_2 \\text{ is head}| c) p(c|H_1 \\text{ is head}) \\\\\n",
    "&= P(H_2 \\text{ is head}| C \\text{ is fair} ) P(C \\text{ is fair}|H_1 \\text{ is head}) + P(H_2 \\text{ is head}| C \\text{ is unfair}) P(C \\text{ is unfair}|H_1 \\text{ is head}) \\\\\n",
    "&= 0.5 \\cdot 0.38 + 0.8 \\cdot (1-0.38) \\approx 0.69 \\\\\n",
    "\\end{align*}\n",
    "\n",
    "\n",
    "\\begin{align*}\n",
    "P(H_2 \\text{ is head} | H_1 \\text{ is tail}) &= 0.5 \\cdot 0.71 + 0.8 \\cdot (1-0.71) \\approx 0.59 \\\\\n",
    "\\end{align*}\n",
    "\n",
    "then\n",
    "\\begin{align*}\n",
    "p(h_2 | h_1) &= Bern(h_2;0.69)  \\text{ if } h_1 = \\text{head} \\\\\n",
    "             &= Bern(h_2;0.59)  \\text{ if } h_1 = \\text{tail} \\\\\n",
    "\\end{align*}\n",
    "\n"
   ]
  },
  {
   "cell_type": "markdown",
   "metadata": {},
   "source": [
    "### **Exercise 4**"
   ]
  },
  {
   "cell_type": "markdown",
   "metadata": {},
   "source": [
    "Given $p(x,y)=$\n",
    "\n",
    "|   | Y=0 | Y=1 |\n",
    "|---|-----|-----|\n",
    "| X=0 | 0.2  | 0.1  |\n",
    "| X=1 | 0.15 | 0.0  |\n",
    "| X=2 | 0.25  | 0.3 |\n",
    "\n",
    "\n",
    "\n",
    "Calculate\n",
    "- $p(y)$\n",
    "- $p(x)$\n",
    "- $p(x|y)$\n",
    "- $p(y|x)$\n",
    "- $\\mathbb{E}[x]$\n",
    "- $\\mathbb{E}[y]$\n",
    "- $\\mathbb{E}[x|y]$\n",
    "- $\\text{cov}[x,y]$\n",
    "\n",
    "You can do it by hand on a piece of paper, but I also suggest you doing it with the `numpy` library. You can do any of these computations with a single line of code."
   ]
  },
  {
   "cell_type": "code",
   "execution_count": 2,
   "metadata": {},
   "outputs": [],
   "source": [
    "import numpy as np\n",
    "\n",
    "p = np.array([[0.2, 0.1],\n",
    "                 [0.15, 0.0],\n",
    "                 [0.25, 0.3],\n",
    "                ])\n",
    "\n",
    "x = np.array([0, 1, 2])\n",
    "y = np.array([0, 1])"
   ]
  },
  {
   "cell_type": "markdown",
   "metadata": {},
   "source": [
    "### **Exercise 5**"
   ]
  },
  {
   "cell_type": "markdown",
   "metadata": {},
   "source": [
    "**Exercise 1**\n",
    "\n",
    "\n",
    "Suppose we are interested in the relation between an exposure A (has been affected by coronavirus: 0 no, 1 yes) and an outcome Y (has myocarditis: 0 no, 1 yes). We conduct an observational study on a representative population and obtain the following proportions (N.B. this data is made up and does not come from a study):\n",
    "\n",
    "|A \\ Y| 0 | 1 |\n",
    "|-----|---|---|\n",
    "| 0 |0.75|0.07|\n",
    "| 1 |0.15|0.03|\n",
    "\n",
    "s.t. for example, among all subjects, 3% has been affected by coronavirus and has myocarditis.\n",
    "\n",
    "- Among the exposed subjects, what is the proportion on individuals that have the outcome?\n",
    "- Are A and Y independent?"
   ]
  },
  {
   "cell_type": "markdown",
   "metadata": {},
   "source": [
    "### **Exercise 6**"
   ]
  },
  {
   "cell_type": "markdown",
   "metadata": {},
   "source": [
    "Given the distribution $p(x,y) = x + y \\text{ if } x \\in [0,1], y \\in [0,1], 0 \\text{ otherwise}$\n",
    "\n",
    "Calculate\n",
    "- $\\mathbb{E}[x|y]$\n",
    "- $\\rho[X,Y]$\n",
    "\n",
    "This time, I suggest you trying the `sympy` library, that can help you with symbolic computations."
   ]
  },
  {
   "cell_type": "code",
   "execution_count": 4,
   "metadata": {},
   "outputs": [
    {
     "name": "stdout",
     "output_type": "stream",
     "text": [
      "\n",
      "Z: 1\n"
     ]
    }
   ],
   "source": [
    "from sympy import symbols, integrate, log, sqrt\n",
    "\n",
    "# Define the symbols\n",
    "x, y = symbols('x y')\n",
    "\n",
    "# Define the joint distribution\n",
    "p_xy = (x + y)\n",
    "\n",
    "# Example of integral\n",
    "Z = integrate(p_xy, (x, 0, 1), (y, 0, 1))\n",
    "\n",
    "print(\"\\nZ:\", Z)"
   ]
  },
  {
   "cell_type": "markdown",
   "metadata": {},
   "source": [
    "### **Exercise 7**"
   ]
  },
  {
   "cell_type": "markdown",
   "metadata": {},
   "source": [
    "Two alternative definitions of conditional independence were given, prove that they are equivalent:\n",
    "$$p(a | b, c)=p(a | c) \\Longleftrightarrow p(a, b | c)=p(a|c)p(b|c)$$"
   ]
  },
  {
   "cell_type": "markdown",
   "metadata": {},
   "source": [
    "### **Exercise 8**"
   ]
  },
  {
   "cell_type": "markdown",
   "metadata": {},
   "source": [
    "Compute the variance of the following unnormalized distribution (numerically, use `scipy.integrate`)\n",
    "$$p(x) \\propto sin(x)^2 e^{-|x|}$$"
   ]
  },
  {
   "cell_type": "markdown",
   "metadata": {},
   "source": [
    "### **Exercise 9**"
   ]
  },
  {
   "cell_type": "markdown",
   "metadata": {},
   "source": [
    "You are proposed to play the following game: you toss a coin a first time, if tail appears, you win 1€ and the game ends, if head appears you win 2€ and you can continue playing. From the second toss on, if tail appears you stop playing, if head appears the amount you already won doubles and you can keep playing.\n",
    "\n",
    "Example:\n",
    "1) You toss the coin and **head** appears (you are winning 2€)\n",
    "2) You toss the coin again and **head** appears (you are winning 4€)\n",
    "3) You toss the coin again and **head** appears (you are winning 8€)\n",
    "4) You toss the coin again and **tail** appears (the game ends and you won a total amount of 8€)\n",
    "\n",
    "Let's call $X$ the amount of money you win playing this game.\n",
    "1. What is the expected amount you win?\n",
    "2. What is the expected value of $\\log_2(X)$?\n",
    "3. How much would you pay for playing this game?\n",
    "\n",
    "Hint: $ \\sum_{i=1}^{\\infty} i q^i = \\frac{q}{(1-q)^2}$"
   ]
  },
  {
   "cell_type": "markdown",
   "metadata": {},
   "source": [
    "#### Solution"
   ]
  },
  {
   "cell_type": "markdown",
   "metadata": {},
   "source": [
    "$$P(H = h) = 2^{-h-1}$$\n",
    "\n",
    "1. What is the expected amount you win?\n",
    "\n",
    "$$f(h) = 2^{h} \\text{ (amount won)} $$ \n",
    "$$\\mathbb{E}_{h \\sim p(h)}[f(h)] = \\sum_{h=0}^{\\infty} p(h)f(h) = \\sum_{h=0}^{\\infty} 2^{-h-1} 2^{h} = \\frac{1}{2}\\sum_{h=0}^{\\infty} 1 = \\infty$$\n",
    "\n",
    "2. What is the expected value of $\\log_2(X)$?\n",
    "\n",
    "$$\\mathbb{E}_{h \\sim p(h)}[\\log_2{f(h)}] = \\sum_{h=0}^{\\infty} h2^{-h-1} = \\frac{1}{2}\\sum_{h=1}^{\\infty} h2^{-h} = \\frac{1}{2}\\frac{\\frac{1}{2}}{(1-\\frac{1}{2})^2} = 1$$\n",
    "\n",
    "3. The answer is subjective, as in any gambling scenario. This is an example where the choice is hard since although the expected value is very large, it's still improbable to win a large amount. So the expected value is not always a good statistic to describe a random variable, or to be considered in order to take decisions.\n",
    "Anyway, such a game is impossible in a real scenario since there is a practical limit to the amount one can actually win.\n",
    "\n",
    "For more information check [St. Petersburg paradox](https://www.wikiwand.com/en/St._Petersburg_paradox) and [Geometric distribution](https://www.wikiwand.com/en/Geometric_distribution)."
   ]
  },
  {
   "cell_type": "markdown",
   "metadata": {},
   "source": [
    "### **Exercise 10**"
   ]
  },
  {
   "cell_type": "markdown",
   "metadata": {},
   "source": [
    "It's night and you are looking into the sky waiting to see a falling star. A friend of yours tells you that the waiting time $T$ (hours) is distributed exponentially: $p(t) = 2e^{-2t}$.\n",
    "1. What is the probability of seeing the first falling star within 1 hour? How much time do you expect to wait?\n",
    "2. You have not seen anything in one hour, what is the probability of seeing a the first falling star in the next 1 hour? (justify your answer)\n",
    "3. Is the waiting time dependent on how much you have already waited? Is the answer the same for any distribution?\n",
    "3. What is the probability of seeing at least two falling stars in the first 1 hour?\n",
    "\n",
    "4. Let's say the distribution is instead $p(t) = Uniform(0, 4)$ (for example, there is a known comet expected to show up at a certain point), how do aswers to questions 1 and 2 change?"
   ]
  }
 ],
 "metadata": {
  "kernelspec": {
   "display_name": "Python 3 (ipykernel)",
   "language": "python",
   "name": "python3"
  },
  "language_info": {
   "codemirror_mode": {
    "name": "ipython",
    "version": 3
   },
   "file_extension": ".py",
   "mimetype": "text/x-python",
   "name": "python",
   "nbconvert_exporter": "python",
   "pygments_lexer": "ipython3",
   "version": "3.10.12"
  }
 },
 "nbformat": 4,
 "nbformat_minor": 4
}
