{
 "cells": [
  {
   "cell_type": "markdown",
   "metadata": {},
   "source": [
    "<a href=\"https://colab.research.google.com/github/DavideScassola/PML2024/blob/main/Notebooks/02_numpy_pandas_sklearn/021_pandas.ipynb\" target=\"_parent\"><img src=\"https://colab.research.google.com/assets/colab-badge.svg\" alt=\"Open In Colab\"/></a>"
   ]
  },
  {
   "attachments": {},
   "cell_type": "markdown",
   "metadata": {},
   "source": [
    "# Notebook 2.2: Introduction to `pandas`\n",
    "\n",
    "Probabilistic Machine Learning -- Spring 2024, UniTS\n",
    "\n",
    "Adapted from previous work from [Gaia Saveri](https://www.linkedin.com/in/gaia-saveri-b7059a1b7), [Ilaria Vascotto](https://www.linkedin.com/in/ilariavascotto) and [Emanuele Ballarin](https://ballarin.cc)."
   ]
  },
  {
   "attachments": {},
   "cell_type": "markdown",
   "metadata": {
    "id": "YneEBH1gDUgs"
   },
   "source": [
    "## What is `pandas`?\n",
    "\n",
    "\n",
    "<img src=\"https://i.guim.co.uk/img/media/c4fe34a8aeeebd716c9442aebd8b646e56aefd93/0_162_3600_2160/master/3600.jpg?width=1200&height=900&quality=85&auto=format&fit=crop&s=85c90b55a7c0879477267e58a4bf6c36\" width=\"400\">\n",
    "\n",
    "\n",
    "<img src=\"https://datascientest.com/en/wp-content/uploads/sites/9/2022/01/illu_pandas-82-1024x562.png\" width=\"400\">\n",
    "\n",
    "`pandas` is an open source Python library for data handling, structuring, and ultimately analysis.\n",
    "\n",
    "\n",
    "## Core data structures\n",
    "\n",
    "`pandas` introduces two new data structures: `Series` and `DataFrame`. \n",
    "\n",
    "### Series\n",
    "\n",
    "A Series in a one-dimensional object (similar to an array, list, or column in a table). A labeled index is assigned to each item in the Series (the default are 0-N indeces, being N the length of the Series minus one)."
   ]
  },
  {
   "cell_type": "code",
   "execution_count": 2,
   "metadata": {
    "id": "tLO0oCSlDUgt"
   },
   "outputs": [],
   "source": [
    "import pandas as pd"
   ]
  },
  {
   "cell_type": "code",
   "execution_count": 3,
   "metadata": {
    "id": "-dOPazsLHPJ5"
   },
   "outputs": [
    {
     "name": "stdout",
     "output_type": "stream",
     "text": [
      "Series with default index: \n",
      "0              7\n",
      "1    Hello world\n",
      "2          42.26\n",
      "dtype: object\n"
     ]
    }
   ],
   "source": [
    "# Create a series from a list\n",
    "s = pd.Series([7, \"Hello world\", 42.26])\n",
    "\n",
    "print(f\"Series with default index: \\n{s}\")"
   ]
  },
  {
   "cell_type": "code",
   "execution_count": 4,
   "metadata": {
    "id": "MY0xXyjMHRBZ"
   },
   "outputs": [
    {
     "name": "stdout",
     "output_type": "stream",
     "text": [
      "\n",
      "Series with user-defined index: \n",
      "A       2\n",
      "B    True\n",
      "C     Hey\n",
      "dtype: object\n"
     ]
    }
   ],
   "source": [
    "# Create a series with a user-defined index\n",
    "series_with_index = pd.Series([2, True, \"Hey\"], index=[\"A\", \"B\", \"C\"])\n",
    "\n",
    "print(f\"\\nSeries with user-defined index: \\n{series_with_index}\")"
   ]
  },
  {
   "cell_type": "code",
   "execution_count": 5,
   "metadata": {},
   "outputs": [
    {
     "data": {
      "text/plain": [
       "2"
      ]
     },
     "execution_count": 5,
     "metadata": {},
     "output_type": "execute_result"
    }
   ],
   "source": [
    "series_with_index['A']"
   ]
  },
  {
   "cell_type": "code",
   "execution_count": 6,
   "metadata": {
    "id": "DvQjBTozHT7L"
   },
   "outputs": [
    {
     "name": "stdout",
     "output_type": "stream",
     "text": [
      "\n",
      "Series from dictionary: \n",
      "One      1\n",
      "Two      2\n",
      "Three    3\n",
      "dtype: int64\n"
     ]
    }
   ],
   "source": [
    "# Create a series from dictionary\n",
    "# In this case the index is defined from the keys of the dictionary\n",
    "d = {\"One\": 1, \"Two\": 2, \"Three\": 3}\n",
    "\n",
    "series_from_dict = pd.Series(d)\n",
    "\n",
    "print(f\"\\nSeries from dictionary: \\n{series_from_dict}\")"
   ]
  },
  {
   "cell_type": "code",
   "execution_count": 7,
   "metadata": {
    "id": "eMkiXOC6HVPY"
   },
   "outputs": [
    {
     "name": "stdout",
     "output_type": "stream",
     "text": [
      "\n",
      "Cities Series: \n",
      "Chicago          1000.0\n",
      "New York         1300.0\n",
      "Portland          900.0\n",
      "San Francisco    1100.0\n",
      "Austin            450.0\n",
      "Boston              NaN\n",
      "dtype: float64\n"
     ]
    }
   ],
   "source": [
    "# Indexing series\n",
    "dd = {\n",
    "    \"Chicago\": 1000,\n",
    "    \"New York\": 1300,\n",
    "    \"Portland\": 900,\n",
    "    \"San Francisco\": 1100,\n",
    "    \"Austin\": 450,\n",
    "    \"Boston\": None,\n",
    "}\n",
    "cities = pd.Series(dd)\n",
    "\n",
    "print(f\"\\nCities Series: \\n{cities}\")"
   ]
  },
  {
   "cell_type": "code",
   "execution_count": 8,
   "metadata": {
    "id": "KAjH7cTrHWPW"
   },
   "outputs": [
    {
     "name": "stdout",
     "output_type": "stream",
     "text": [
      "New York         1300.0\n",
      "San Francisco    1100.0\n",
      "Boston              NaN\n",
      "dtype: float64\n"
     ]
    }
   ],
   "source": [
    "# Use of the index to select specific items (by \"name\")\n",
    "c = cities[[\"New York\", \"San Francisco\", \"Boston\"]]\n",
    "print(c)"
   ]
  },
  {
   "cell_type": "code",
   "execution_count": 9,
   "metadata": {
    "id": "m7SodyAXIAA3"
   },
   "outputs": [
    {
     "data": {
      "text/plain": [
       "Chicago          1000.0\n",
       "New York         1300.0\n",
       "Portland          900.0\n",
       "San Francisco    1100.0\n",
       "Austin            500.0\n",
       "Boston              NaN\n",
       "dtype: float64"
      ]
     },
     "execution_count": 9,
     "metadata": {},
     "output_type": "execute_result"
    }
   ],
   "source": [
    "# Change the value within a Series\n",
    "cities[\"Austin\"] = 500\n",
    "cities"
   ]
  },
  {
   "cell_type": "code",
   "execution_count": 10,
   "metadata": {},
   "outputs": [
    {
     "name": "stdout",
     "output_type": "stream",
     "text": [
      "\n",
      "s + 10: \n",
      "A    11\n",
      "B    12\n",
      "C    13\n",
      "dtype: int64\n",
      "\n",
      "s*2: \n",
      "A    2\n",
      "B    4\n",
      "C    6\n",
      "dtype: int64\n"
     ]
    }
   ],
   "source": [
    "# Algebraic operations\n",
    "s = pd.Series([1, 2, 3], index=[\"A\", \"B\", \"C\"])\n",
    "\n",
    "print(f\"\\ns + 10: \\n{s + 10}\")\n",
    "print(f\"\\ns*2: \\n{s*2}\")"
   ]
  },
  {
   "cell_type": "code",
   "execution_count": 11,
   "metadata": {},
   "outputs": [
    {
     "data": {
      "text/plain": [
       "Chicago          False\n",
       "New York          True\n",
       "Portland         False\n",
       "San Francisco     True\n",
       "Austin           False\n",
       "Boston           False\n",
       "dtype: bool"
      ]
     },
     "execution_count": 11,
     "metadata": {},
     "output_type": "execute_result"
    }
   ],
   "source": [
    "# Logical operations\n",
    "cities > 1000"
   ]
  },
  {
   "cell_type": "code",
   "execution_count": 12,
   "metadata": {
    "id": "Rsg8asUmIEiL"
   },
   "outputs": [
    {
     "name": "stdout",
     "output_type": "stream",
     "text": [
      "\n",
      "s1: \n",
      "A    1\n",
      "B    2\n",
      "C    3\n",
      "dtype: int64\n",
      "\n",
      "s2: \n",
      "A    4\n",
      "D    5\n",
      "C    6\n",
      "dtype: int64\n",
      "\n",
      "s1 + s2: \n",
      "A    5.0\n",
      "B    NaN\n",
      "C    9.0\n",
      "D    NaN\n",
      "dtype: float64\n"
     ]
    }
   ],
   "source": [
    "# \"Addition\" of two series\n",
    "# Returns a union of the two series with the addition of same-indexed values, NaN for missing values\n",
    "s1 = pd.Series([1, 2, 3], index=[\"A\", \"B\", \"C\"])\n",
    "s2 = pd.Series([4, 5, 6], index=[\"A\", \"D\", \"C\"])\n",
    "\n",
    "print(f\"\\ns1: \\n{s1}\")\n",
    "print(f\"\\ns2: \\n{s2}\")\n",
    "print(f\"\\ns1 + s2: \\n{s1 + s2}\")"
   ]
  },
  {
   "cell_type": "code",
   "execution_count": 29,
   "metadata": {},
   "outputs": [
    {
     "data": {
      "text/plain": [
       "Chicago          False\n",
       "New York         False\n",
       "Portland          True\n",
       "San Francisco    False\n",
       "Austin            True\n",
       "Boston           False\n",
       "dtype: bool"
      ]
     },
     "execution_count": 29,
     "metadata": {},
     "output_type": "execute_result"
    }
   ],
   "source": [
    "# Use of boolean indexing for selection (by \"property\")\n",
    "cities < 1000"
   ]
  },
  {
   "cell_type": "code",
   "execution_count": 30,
   "metadata": {},
   "outputs": [
    {
     "name": "stdout",
     "output_type": "stream",
     "text": [
      "Portland    900.0\n",
      "Austin      500.0\n",
      "dtype: float64\n"
     ]
    }
   ],
   "source": [
    "cc = cities[cities < 1000]\n",
    "print(cc)"
   ]
  },
  {
   "cell_type": "code",
   "execution_count": 31,
   "metadata": {},
   "outputs": [
    {
     "data": {
      "text/plain": [
       "6"
      ]
     },
     "execution_count": 31,
     "metadata": {},
     "output_type": "execute_result"
    }
   ],
   "source": [
    "# Reduction operations (sum, mean, max, etc...)\n",
    "s = pd.Series([1, 2, 3], index=[\"A\", \"B\", \"C\"])\n",
    "\n",
    "s.sum()"
   ]
  },
  {
   "attachments": {},
   "cell_type": "markdown",
   "metadata": {
    "id": "xBHxj00nDUgv"
   },
   "source": [
    "### DataFrame\n",
    "\n",
    "A `DataFrame` is a tabular data structure comprised of rows and columns. It can be thought of as a group of Series objects that share an index (the columns' name). \n",
    "\n",
    "#### Reading data\n",
    "\n",
    "In order to create manually a DataFrame we can pass a dictionary of lists to the DataFrame constructor:"
   ]
  },
  {
   "cell_type": "code",
   "execution_count": 15,
   "metadata": {
    "id": "VdvJ_zStDUgv"
   },
   "outputs": [
    {
     "name": "stdout",
     "output_type": "stream",
     "text": [
      "  letters  numbers spelling\n",
      "0       A        1      One\n",
      "1       B        2      Two\n",
      "2       C        3    Three\n",
      "3       D        4     Four\n"
     ]
    }
   ],
   "source": [
    "data = {\n",
    "    \"letters\": [\"A\", \"B\", \"C\", \"D\"],\n",
    "    \"numbers\": [1, 2, 3, 4],\n",
    "    \"spelling\": [\"One\", \"Two\", \"Three\", \"Four\"],\n",
    "}\n",
    "\n",
    "letters_numbers = pd.DataFrame(data, columns=[\"letters\", \"numbers\", \"spelling\"])\n",
    "print(letters_numbers)"
   ]
  },
  {
   "cell_type": "markdown",
   "metadata": {
    "id": "25LxDgdaDUgv"
   },
   "source": [
    "More often we have a dataset that we want to read into a DataFrame.\n",
    "With pandas it's possible to load data stored in many formats, but the most common is probably *CSV*\n",
    "Yuo can use the `read_csv` function to do it, passing the location of the file (it works also with links to web resources!)"
   ]
  },
  {
   "cell_type": "code",
   "execution_count": 16,
   "metadata": {
    "id": "pLdohNRDTfqR"
   },
   "outputs": [
    {
     "data": {
      "text/html": [
       "<div>\n",
       "<style scoped>\n",
       "    .dataframe tbody tr th:only-of-type {\n",
       "        vertical-align: middle;\n",
       "    }\n",
       "\n",
       "    .dataframe tbody tr th {\n",
       "        vertical-align: top;\n",
       "    }\n",
       "\n",
       "    .dataframe thead th {\n",
       "        text-align: right;\n",
       "    }\n",
       "</style>\n",
       "<table border=\"1\" class=\"dataframe\">\n",
       "  <thead>\n",
       "    <tr style=\"text-align: right;\">\n",
       "      <th></th>\n",
       "      <th>score_phrase</th>\n",
       "      <th>title</th>\n",
       "      <th>url</th>\n",
       "      <th>platform</th>\n",
       "      <th>score</th>\n",
       "      <th>genre</th>\n",
       "      <th>editors_choice</th>\n",
       "      <th>release_year</th>\n",
       "      <th>release_month</th>\n",
       "      <th>release_day</th>\n",
       "    </tr>\n",
       "  </thead>\n",
       "  <tbody>\n",
       "    <tr>\n",
       "      <th>0</th>\n",
       "      <td>Amazing</td>\n",
       "      <td>LittleBigPlanet PS Vita</td>\n",
       "      <td>/games/littlebigplanet-vita/vita-98907</td>\n",
       "      <td>PlayStation Vita</td>\n",
       "      <td>9.0</td>\n",
       "      <td>Platformer</td>\n",
       "      <td>Y</td>\n",
       "      <td>2012</td>\n",
       "      <td>9</td>\n",
       "      <td>12</td>\n",
       "    </tr>\n",
       "    <tr>\n",
       "      <th>1</th>\n",
       "      <td>Amazing</td>\n",
       "      <td>LittleBigPlanet PS Vita -- Marvel Super Hero E...</td>\n",
       "      <td>/games/littlebigplanet-ps-vita-marvel-super-he...</td>\n",
       "      <td>PlayStation Vita</td>\n",
       "      <td>9.0</td>\n",
       "      <td>Platformer</td>\n",
       "      <td>Y</td>\n",
       "      <td>2012</td>\n",
       "      <td>9</td>\n",
       "      <td>12</td>\n",
       "    </tr>\n",
       "    <tr>\n",
       "      <th>2</th>\n",
       "      <td>Great</td>\n",
       "      <td>Splice: Tree of Life</td>\n",
       "      <td>/games/splice/ipad-141070</td>\n",
       "      <td>iPad</td>\n",
       "      <td>8.5</td>\n",
       "      <td>Puzzle</td>\n",
       "      <td>N</td>\n",
       "      <td>2012</td>\n",
       "      <td>9</td>\n",
       "      <td>12</td>\n",
       "    </tr>\n",
       "    <tr>\n",
       "      <th>3</th>\n",
       "      <td>Great</td>\n",
       "      <td>NHL 13</td>\n",
       "      <td>/games/nhl-13/xbox-360-128182</td>\n",
       "      <td>Xbox 360</td>\n",
       "      <td>8.5</td>\n",
       "      <td>Sports</td>\n",
       "      <td>N</td>\n",
       "      <td>2012</td>\n",
       "      <td>9</td>\n",
       "      <td>11</td>\n",
       "    </tr>\n",
       "    <tr>\n",
       "      <th>4</th>\n",
       "      <td>Great</td>\n",
       "      <td>NHL 13</td>\n",
       "      <td>/games/nhl-13/ps3-128181</td>\n",
       "      <td>PlayStation 3</td>\n",
       "      <td>8.5</td>\n",
       "      <td>Sports</td>\n",
       "      <td>N</td>\n",
       "      <td>2012</td>\n",
       "      <td>9</td>\n",
       "      <td>11</td>\n",
       "    </tr>\n",
       "    <tr>\n",
       "      <th>...</th>\n",
       "      <td>...</td>\n",
       "      <td>...</td>\n",
       "      <td>...</td>\n",
       "      <td>...</td>\n",
       "      <td>...</td>\n",
       "      <td>...</td>\n",
       "      <td>...</td>\n",
       "      <td>...</td>\n",
       "      <td>...</td>\n",
       "      <td>...</td>\n",
       "    </tr>\n",
       "    <tr>\n",
       "      <th>18620</th>\n",
       "      <td>Good</td>\n",
       "      <td>Tokyo Mirage Sessions #FE</td>\n",
       "      <td>/games/fire-emblem-x-shin-megami-tensei/wii-u-...</td>\n",
       "      <td>Wii U</td>\n",
       "      <td>7.6</td>\n",
       "      <td>RPG</td>\n",
       "      <td>N</td>\n",
       "      <td>2016</td>\n",
       "      <td>6</td>\n",
       "      <td>29</td>\n",
       "    </tr>\n",
       "    <tr>\n",
       "      <th>18621</th>\n",
       "      <td>Amazing</td>\n",
       "      <td>LEGO Star Wars: The Force Awakens</td>\n",
       "      <td>/games/lego-star-wars-the-force-awakens/ps4-20...</td>\n",
       "      <td>PlayStation 4</td>\n",
       "      <td>9.0</td>\n",
       "      <td>Action, Adventure</td>\n",
       "      <td>Y</td>\n",
       "      <td>2016</td>\n",
       "      <td>6</td>\n",
       "      <td>29</td>\n",
       "    </tr>\n",
       "    <tr>\n",
       "      <th>18622</th>\n",
       "      <td>Mediocre</td>\n",
       "      <td>Star Ocean: Integrity and Faithlessness</td>\n",
       "      <td>/games/star-ocean-5/ps4-20035681</td>\n",
       "      <td>PlayStation 4</td>\n",
       "      <td>5.8</td>\n",
       "      <td>RPG</td>\n",
       "      <td>N</td>\n",
       "      <td>2016</td>\n",
       "      <td>6</td>\n",
       "      <td>28</td>\n",
       "    </tr>\n",
       "    <tr>\n",
       "      <th>18623</th>\n",
       "      <td>Masterpiece</td>\n",
       "      <td>Inside</td>\n",
       "      <td>/games/inside-playdead/xbox-one-121435</td>\n",
       "      <td>Xbox One</td>\n",
       "      <td>10.0</td>\n",
       "      <td>Adventure</td>\n",
       "      <td>Y</td>\n",
       "      <td>2016</td>\n",
       "      <td>6</td>\n",
       "      <td>28</td>\n",
       "    </tr>\n",
       "    <tr>\n",
       "      <th>18624</th>\n",
       "      <td>Masterpiece</td>\n",
       "      <td>Inside</td>\n",
       "      <td>/games/inside-playdead/pc-20055740</td>\n",
       "      <td>PC</td>\n",
       "      <td>10.0</td>\n",
       "      <td>Adventure</td>\n",
       "      <td>Y</td>\n",
       "      <td>2016</td>\n",
       "      <td>6</td>\n",
       "      <td>28</td>\n",
       "    </tr>\n",
       "  </tbody>\n",
       "</table>\n",
       "<p>18625 rows × 10 columns</p>\n",
       "</div>"
      ],
      "text/plain": [
       "      score_phrase                                              title  \\\n",
       "0          Amazing                            LittleBigPlanet PS Vita   \n",
       "1          Amazing  LittleBigPlanet PS Vita -- Marvel Super Hero E...   \n",
       "2            Great                               Splice: Tree of Life   \n",
       "3            Great                                             NHL 13   \n",
       "4            Great                                             NHL 13   \n",
       "...            ...                                                ...   \n",
       "18620         Good                          Tokyo Mirage Sessions #FE   \n",
       "18621      Amazing                  LEGO Star Wars: The Force Awakens   \n",
       "18622     Mediocre            Star Ocean: Integrity and Faithlessness   \n",
       "18623  Masterpiece                                             Inside   \n",
       "18624  Masterpiece                                             Inside   \n",
       "\n",
       "                                                     url          platform  \\\n",
       "0                 /games/littlebigplanet-vita/vita-98907  PlayStation Vita   \n",
       "1      /games/littlebigplanet-ps-vita-marvel-super-he...  PlayStation Vita   \n",
       "2                              /games/splice/ipad-141070              iPad   \n",
       "3                          /games/nhl-13/xbox-360-128182          Xbox 360   \n",
       "4                               /games/nhl-13/ps3-128181     PlayStation 3   \n",
       "...                                                  ...               ...   \n",
       "18620  /games/fire-emblem-x-shin-megami-tensei/wii-u-...             Wii U   \n",
       "18621  /games/lego-star-wars-the-force-awakens/ps4-20...     PlayStation 4   \n",
       "18622                   /games/star-ocean-5/ps4-20035681     PlayStation 4   \n",
       "18623             /games/inside-playdead/xbox-one-121435          Xbox One   \n",
       "18624                 /games/inside-playdead/pc-20055740                PC   \n",
       "\n",
       "       score              genre editors_choice  release_year  release_month  \\\n",
       "0        9.0         Platformer              Y          2012              9   \n",
       "1        9.0         Platformer              Y          2012              9   \n",
       "2        8.5             Puzzle              N          2012              9   \n",
       "3        8.5             Sports              N          2012              9   \n",
       "4        8.5             Sports              N          2012              9   \n",
       "...      ...                ...            ...           ...            ...   \n",
       "18620    7.6                RPG              N          2016              6   \n",
       "18621    9.0  Action, Adventure              Y          2016              6   \n",
       "18622    5.8                RPG              N          2016              6   \n",
       "18623   10.0          Adventure              Y          2016              6   \n",
       "18624   10.0          Adventure              Y          2016              6   \n",
       "\n",
       "       release_day  \n",
       "0               12  \n",
       "1               12  \n",
       "2               12  \n",
       "3               11  \n",
       "4               11  \n",
       "...            ...  \n",
       "18620           29  \n",
       "18621           29  \n",
       "18622           28  \n",
       "18623           28  \n",
       "18624           28  \n",
       "\n",
       "[18625 rows x 10 columns]"
      ]
     },
     "execution_count": 16,
     "metadata": {},
     "output_type": "execute_result"
    }
   ],
   "source": [
    "# import csv dataset\n",
    "path_csv = \"https://raw.githubusercontent.com/GaiaSaveri/intro-to-ml/main/data/ign.csv\"\n",
    "reviews = pd.read_csv(path_csv, index_col=0)\n",
    "reviews"
   ]
  },
  {
   "attachments": {},
   "cell_type": "markdown",
   "metadata": {
    "id": "1E17iFWYDUgw"
   },
   "source": [
    "#### Indexing\n",
    "\n",
    "`pandas` supports several methods for indexing data in a table:\n",
    "\n",
    "* `iloc` (integer based indexing): refers to rows and columns by their position, expressed as an integer starting from zero;\n",
    "* `loc` (label based indexing): uses row and column name;\n",
    "* Boolean indexing: uses boolean masks. Row names are stored in the field `index` of a data frame, columns names are stored in the field `columns`. "
   ]
  },
  {
   "cell_type": "code",
   "execution_count": 17,
   "metadata": {
    "id": "gohlfgvIDUgw"
   },
   "outputs": [
    {
     "name": "stdout",
     "output_type": "stream",
     "text": [
      "  score_phrase                                              title\n",
      "0      Amazing                            LittleBigPlanet PS Vita\n",
      "1      Amazing  LittleBigPlanet PS Vita -- Marvel Super Hero E...\n",
      "2        Great                               Splice: Tree of Life\n",
      "3        Great                                             NHL 13\n",
      "4        Great                                             NHL 13\n",
      "5         Good                          Total War Battles: Shogun\n",
      "6        Awful                                Double Dragon: Neon\n",
      "7      Amazing                                       Guild Wars 2\n",
      "8        Awful                                Double Dragon: Neon\n",
      "9         Good                          Total War Battles: Shogun\n"
     ]
    }
   ],
   "source": [
    "# Selection of a subset of rows and columns of the dataframe\n",
    "print(reviews.iloc[0:10, 0:2])  # first ten rows, first two columns"
   ]
  },
  {
   "cell_type": "code",
   "execution_count": 18,
   "metadata": {
    "id": "ePB70qt1DUgx"
   },
   "outputs": [
    {
     "data": {
      "text/html": [
       "<div>\n",
       "<style scoped>\n",
       "    .dataframe tbody tr th:only-of-type {\n",
       "        vertical-align: middle;\n",
       "    }\n",
       "\n",
       "    .dataframe tbody tr th {\n",
       "        vertical-align: top;\n",
       "    }\n",
       "\n",
       "    .dataframe thead th {\n",
       "        text-align: right;\n",
       "    }\n",
       "</style>\n",
       "<table border=\"1\" class=\"dataframe\">\n",
       "  <thead>\n",
       "    <tr style=\"text-align: right;\">\n",
       "      <th></th>\n",
       "      <th>score_phrase</th>\n",
       "      <th>title</th>\n",
       "      <th>url</th>\n",
       "      <th>platform</th>\n",
       "      <th>score</th>\n",
       "      <th>genre</th>\n",
       "      <th>editors_choice</th>\n",
       "      <th>release_year</th>\n",
       "      <th>release_month</th>\n",
       "      <th>release_day</th>\n",
       "    </tr>\n",
       "  </thead>\n",
       "  <tbody>\n",
       "    <tr>\n",
       "      <th>10</th>\n",
       "      <td>Good</td>\n",
       "      <td>Tekken Tag Tournament 2</td>\n",
       "      <td>/games/tekken-tag-tournament-2/ps3-124584</td>\n",
       "      <td>PlayStation 3</td>\n",
       "      <td>7.5</td>\n",
       "      <td>Fighting</td>\n",
       "      <td>N</td>\n",
       "      <td>2012</td>\n",
       "      <td>9</td>\n",
       "      <td>11</td>\n",
       "    </tr>\n",
       "    <tr>\n",
       "      <th>11</th>\n",
       "      <td>Good</td>\n",
       "      <td>Tekken Tag Tournament 2</td>\n",
       "      <td>/games/tekken-tag-tournament-2/xbox-360-124581</td>\n",
       "      <td>Xbox 360</td>\n",
       "      <td>7.5</td>\n",
       "      <td>Fighting</td>\n",
       "      <td>N</td>\n",
       "      <td>2012</td>\n",
       "      <td>9</td>\n",
       "      <td>11</td>\n",
       "    </tr>\n",
       "    <tr>\n",
       "      <th>12</th>\n",
       "      <td>Good</td>\n",
       "      <td>Wild Blood</td>\n",
       "      <td>/games/wild-blood/iphone-139363</td>\n",
       "      <td>iPhone</td>\n",
       "      <td>7.0</td>\n",
       "      <td>NaN</td>\n",
       "      <td>N</td>\n",
       "      <td>2012</td>\n",
       "      <td>9</td>\n",
       "      <td>10</td>\n",
       "    </tr>\n",
       "    <tr>\n",
       "      <th>13</th>\n",
       "      <td>Amazing</td>\n",
       "      <td>Mark of the Ninja</td>\n",
       "      <td>/games/mark-of-the-ninja-135615/xbox-360-129276</td>\n",
       "      <td>Xbox 360</td>\n",
       "      <td>9.0</td>\n",
       "      <td>Action, Adventure</td>\n",
       "      <td>Y</td>\n",
       "      <td>2012</td>\n",
       "      <td>9</td>\n",
       "      <td>7</td>\n",
       "    </tr>\n",
       "    <tr>\n",
       "      <th>14</th>\n",
       "      <td>Amazing</td>\n",
       "      <td>Mark of the Ninja</td>\n",
       "      <td>/games/mark-of-the-ninja-135615/pc-143761</td>\n",
       "      <td>PC</td>\n",
       "      <td>9.0</td>\n",
       "      <td>Action, Adventure</td>\n",
       "      <td>Y</td>\n",
       "      <td>2012</td>\n",
       "      <td>9</td>\n",
       "      <td>7</td>\n",
       "    </tr>\n",
       "    <tr>\n",
       "      <th>15</th>\n",
       "      <td>Okay</td>\n",
       "      <td>Home: A Unique Horror Adventure</td>\n",
       "      <td>/games/home-a-unique-horror-adventure/mac-2001...</td>\n",
       "      <td>Macintosh</td>\n",
       "      <td>6.5</td>\n",
       "      <td>Adventure</td>\n",
       "      <td>N</td>\n",
       "      <td>2012</td>\n",
       "      <td>9</td>\n",
       "      <td>6</td>\n",
       "    </tr>\n",
       "    <tr>\n",
       "      <th>16</th>\n",
       "      <td>Okay</td>\n",
       "      <td>Home: A Unique Horror Adventure</td>\n",
       "      <td>/games/home-a-unique-horror-adventure/pc-137135</td>\n",
       "      <td>PC</td>\n",
       "      <td>6.5</td>\n",
       "      <td>Adventure</td>\n",
       "      <td>N</td>\n",
       "      <td>2012</td>\n",
       "      <td>9</td>\n",
       "      <td>6</td>\n",
       "    </tr>\n",
       "    <tr>\n",
       "      <th>17</th>\n",
       "      <td>Great</td>\n",
       "      <td>Avengers Initiative</td>\n",
       "      <td>/games/avengers-initiative/iphone-141579</td>\n",
       "      <td>iPhone</td>\n",
       "      <td>8.0</td>\n",
       "      <td>Action</td>\n",
       "      <td>N</td>\n",
       "      <td>2012</td>\n",
       "      <td>9</td>\n",
       "      <td>5</td>\n",
       "    </tr>\n",
       "    <tr>\n",
       "      <th>18</th>\n",
       "      <td>Mediocre</td>\n",
       "      <td>Way of the Samurai 4</td>\n",
       "      <td>/games/way-of-the-samurai-4/ps3-23516</td>\n",
       "      <td>PlayStation 3</td>\n",
       "      <td>5.5</td>\n",
       "      <td>Action, Adventure</td>\n",
       "      <td>N</td>\n",
       "      <td>2012</td>\n",
       "      <td>9</td>\n",
       "      <td>3</td>\n",
       "    </tr>\n",
       "    <tr>\n",
       "      <th>19</th>\n",
       "      <td>Good</td>\n",
       "      <td>JoJo's Bizarre Adventure HD</td>\n",
       "      <td>/games/jojos-bizarre-adventure/xbox-360-137717</td>\n",
       "      <td>Xbox 360</td>\n",
       "      <td>7.0</td>\n",
       "      <td>Fighting</td>\n",
       "      <td>N</td>\n",
       "      <td>2012</td>\n",
       "      <td>9</td>\n",
       "      <td>3</td>\n",
       "    </tr>\n",
       "    <tr>\n",
       "      <th>20</th>\n",
       "      <td>Good</td>\n",
       "      <td>JoJo's Bizarre Adventure HD</td>\n",
       "      <td>/games/jojos-bizarre-adventure/ps3-137896</td>\n",
       "      <td>PlayStation 3</td>\n",
       "      <td>7.0</td>\n",
       "      <td>Fighting</td>\n",
       "      <td>N</td>\n",
       "      <td>2012</td>\n",
       "      <td>9</td>\n",
       "      <td>3</td>\n",
       "    </tr>\n",
       "  </tbody>\n",
       "</table>\n",
       "</div>"
      ],
      "text/plain": [
       "   score_phrase                            title  \\\n",
       "10         Good          Tekken Tag Tournament 2   \n",
       "11         Good          Tekken Tag Tournament 2   \n",
       "12         Good                       Wild Blood   \n",
       "13      Amazing                Mark of the Ninja   \n",
       "14      Amazing                Mark of the Ninja   \n",
       "15         Okay  Home: A Unique Horror Adventure   \n",
       "16         Okay  Home: A Unique Horror Adventure   \n",
       "17        Great              Avengers Initiative   \n",
       "18     Mediocre             Way of the Samurai 4   \n",
       "19         Good      JoJo's Bizarre Adventure HD   \n",
       "20         Good      JoJo's Bizarre Adventure HD   \n",
       "\n",
       "                                                  url       platform  score  \\\n",
       "10          /games/tekken-tag-tournament-2/ps3-124584  PlayStation 3    7.5   \n",
       "11     /games/tekken-tag-tournament-2/xbox-360-124581       Xbox 360    7.5   \n",
       "12                    /games/wild-blood/iphone-139363         iPhone    7.0   \n",
       "13    /games/mark-of-the-ninja-135615/xbox-360-129276       Xbox 360    9.0   \n",
       "14          /games/mark-of-the-ninja-135615/pc-143761             PC    9.0   \n",
       "15  /games/home-a-unique-horror-adventure/mac-2001...      Macintosh    6.5   \n",
       "16    /games/home-a-unique-horror-adventure/pc-137135             PC    6.5   \n",
       "17           /games/avengers-initiative/iphone-141579         iPhone    8.0   \n",
       "18              /games/way-of-the-samurai-4/ps3-23516  PlayStation 3    5.5   \n",
       "19     /games/jojos-bizarre-adventure/xbox-360-137717       Xbox 360    7.0   \n",
       "20          /games/jojos-bizarre-adventure/ps3-137896  PlayStation 3    7.0   \n",
       "\n",
       "                genre editors_choice  release_year  release_month  release_day  \n",
       "10           Fighting              N          2012              9           11  \n",
       "11           Fighting              N          2012              9           11  \n",
       "12                NaN              N          2012              9           10  \n",
       "13  Action, Adventure              Y          2012              9            7  \n",
       "14  Action, Adventure              Y          2012              9            7  \n",
       "15          Adventure              N          2012              9            6  \n",
       "16          Adventure              N          2012              9            6  \n",
       "17             Action              N          2012              9            5  \n",
       "18  Action, Adventure              N          2012              9            3  \n",
       "19           Fighting              N          2012              9            3  \n",
       "20           Fighting              N          2012              9            3  "
      ]
     },
     "execution_count": 18,
     "metadata": {},
     "output_type": "execute_result"
    }
   ],
   "source": [
    "# Selection of a subset of rows of the dataframe\n",
    "restricted_reviews = reviews.loc[10:20]  # rows from ten to twenty\n",
    "restricted_reviews"
   ]
  },
  {
   "cell_type": "code",
   "execution_count": 19,
   "metadata": {
    "id": "_7OY9JNmDUgx"
   },
   "outputs": [
    {
     "data": {
      "text/html": [
       "<div>\n",
       "<style scoped>\n",
       "    .dataframe tbody tr th:only-of-type {\n",
       "        vertical-align: middle;\n",
       "    }\n",
       "\n",
       "    .dataframe tbody tr th {\n",
       "        vertical-align: top;\n",
       "    }\n",
       "\n",
       "    .dataframe thead th {\n",
       "        text-align: right;\n",
       "    }\n",
       "</style>\n",
       "<table border=\"1\" class=\"dataframe\">\n",
       "  <thead>\n",
       "    <tr style=\"text-align: right;\">\n",
       "      <th></th>\n",
       "      <th>title</th>\n",
       "      <th>score</th>\n",
       "    </tr>\n",
       "  </thead>\n",
       "  <tbody>\n",
       "    <tr>\n",
       "      <th>0</th>\n",
       "      <td>LittleBigPlanet PS Vita</td>\n",
       "      <td>9.0</td>\n",
       "    </tr>\n",
       "    <tr>\n",
       "      <th>1</th>\n",
       "      <td>LittleBigPlanet PS Vita -- Marvel Super Hero E...</td>\n",
       "      <td>9.0</td>\n",
       "    </tr>\n",
       "    <tr>\n",
       "      <th>2</th>\n",
       "      <td>Splice: Tree of Life</td>\n",
       "      <td>8.5</td>\n",
       "    </tr>\n",
       "    <tr>\n",
       "      <th>3</th>\n",
       "      <td>NHL 13</td>\n",
       "      <td>8.5</td>\n",
       "    </tr>\n",
       "    <tr>\n",
       "      <th>4</th>\n",
       "      <td>NHL 13</td>\n",
       "      <td>8.5</td>\n",
       "    </tr>\n",
       "    <tr>\n",
       "      <th>5</th>\n",
       "      <td>Total War Battles: Shogun</td>\n",
       "      <td>7.0</td>\n",
       "    </tr>\n",
       "    <tr>\n",
       "      <th>6</th>\n",
       "      <td>Double Dragon: Neon</td>\n",
       "      <td>3.0</td>\n",
       "    </tr>\n",
       "    <tr>\n",
       "      <th>7</th>\n",
       "      <td>Guild Wars 2</td>\n",
       "      <td>9.0</td>\n",
       "    </tr>\n",
       "    <tr>\n",
       "      <th>8</th>\n",
       "      <td>Double Dragon: Neon</td>\n",
       "      <td>3.0</td>\n",
       "    </tr>\n",
       "    <tr>\n",
       "      <th>9</th>\n",
       "      <td>Total War Battles: Shogun</td>\n",
       "      <td>7.0</td>\n",
       "    </tr>\n",
       "    <tr>\n",
       "      <th>10</th>\n",
       "      <td>Tekken Tag Tournament 2</td>\n",
       "      <td>7.5</td>\n",
       "    </tr>\n",
       "  </tbody>\n",
       "</table>\n",
       "</div>"
      ],
      "text/plain": [
       "                                                title  score\n",
       "0                             LittleBigPlanet PS Vita    9.0\n",
       "1   LittleBigPlanet PS Vita -- Marvel Super Hero E...    9.0\n",
       "2                                Splice: Tree of Life    8.5\n",
       "3                                              NHL 13    8.5\n",
       "4                                              NHL 13    8.5\n",
       "5                           Total War Battles: Shogun    7.0\n",
       "6                                 Double Dragon: Neon    3.0\n",
       "7                                        Guild Wars 2    9.0\n",
       "8                                 Double Dragon: Neon    3.0\n",
       "9                           Total War Battles: Shogun    7.0\n",
       "10                            Tekken Tag Tournament 2    7.5"
      ]
     },
     "execution_count": 19,
     "metadata": {},
     "output_type": "execute_result"
    }
   ],
   "source": [
    "# Selection of a subset of rows and columns using columns' names\n",
    "reviews.loc[0:10, [\"title\", \"score\"]]"
   ]
  },
  {
   "cell_type": "code",
   "execution_count": 20,
   "metadata": {
    "id": "XoFKS3zQDUgx"
   },
   "outputs": [
    {
     "data": {
      "text/html": [
       "<div>\n",
       "<style scoped>\n",
       "    .dataframe tbody tr th:only-of-type {\n",
       "        vertical-align: middle;\n",
       "    }\n",
       "\n",
       "    .dataframe tbody tr th {\n",
       "        vertical-align: top;\n",
       "    }\n",
       "\n",
       "    .dataframe thead th {\n",
       "        text-align: right;\n",
       "    }\n",
       "</style>\n",
       "<table border=\"1\" class=\"dataframe\">\n",
       "  <thead>\n",
       "    <tr style=\"text-align: right;\">\n",
       "      <th></th>\n",
       "      <th>title</th>\n",
       "      <th>score</th>\n",
       "    </tr>\n",
       "  </thead>\n",
       "  <tbody>\n",
       "    <tr>\n",
       "      <th>0</th>\n",
       "      <td>LittleBigPlanet PS Vita</td>\n",
       "      <td>9.0</td>\n",
       "    </tr>\n",
       "    <tr>\n",
       "      <th>1</th>\n",
       "      <td>LittleBigPlanet PS Vita -- Marvel Super Hero E...</td>\n",
       "      <td>9.0</td>\n",
       "    </tr>\n",
       "    <tr>\n",
       "      <th>2</th>\n",
       "      <td>Splice: Tree of Life</td>\n",
       "      <td>8.5</td>\n",
       "    </tr>\n",
       "    <tr>\n",
       "      <th>3</th>\n",
       "      <td>NHL 13</td>\n",
       "      <td>8.5</td>\n",
       "    </tr>\n",
       "    <tr>\n",
       "      <th>4</th>\n",
       "      <td>NHL 13</td>\n",
       "      <td>8.5</td>\n",
       "    </tr>\n",
       "    <tr>\n",
       "      <th>...</th>\n",
       "      <td>...</td>\n",
       "      <td>...</td>\n",
       "    </tr>\n",
       "    <tr>\n",
       "      <th>18620</th>\n",
       "      <td>Tokyo Mirage Sessions #FE</td>\n",
       "      <td>7.6</td>\n",
       "    </tr>\n",
       "    <tr>\n",
       "      <th>18621</th>\n",
       "      <td>LEGO Star Wars: The Force Awakens</td>\n",
       "      <td>9.0</td>\n",
       "    </tr>\n",
       "    <tr>\n",
       "      <th>18622</th>\n",
       "      <td>Star Ocean: Integrity and Faithlessness</td>\n",
       "      <td>5.8</td>\n",
       "    </tr>\n",
       "    <tr>\n",
       "      <th>18623</th>\n",
       "      <td>Inside</td>\n",
       "      <td>10.0</td>\n",
       "    </tr>\n",
       "    <tr>\n",
       "      <th>18624</th>\n",
       "      <td>Inside</td>\n",
       "      <td>10.0</td>\n",
       "    </tr>\n",
       "  </tbody>\n",
       "</table>\n",
       "<p>18625 rows × 2 columns</p>\n",
       "</div>"
      ],
      "text/plain": [
       "                                                   title  score\n",
       "0                                LittleBigPlanet PS Vita    9.0\n",
       "1      LittleBigPlanet PS Vita -- Marvel Super Hero E...    9.0\n",
       "2                                   Splice: Tree of Life    8.5\n",
       "3                                                 NHL 13    8.5\n",
       "4                                                 NHL 13    8.5\n",
       "...                                                  ...    ...\n",
       "18620                          Tokyo Mirage Sessions #FE    7.6\n",
       "18621                  LEGO Star Wars: The Force Awakens    9.0\n",
       "18622            Star Ocean: Integrity and Faithlessness    5.8\n",
       "18623                                             Inside   10.0\n",
       "18624                                             Inside   10.0\n",
       "\n",
       "[18625 rows x 2 columns]"
      ]
     },
     "execution_count": 20,
     "metadata": {},
     "output_type": "execute_result"
    }
   ],
   "source": [
    "# Selection a subset of columns by their names, keeping all rows\n",
    "reviews[[\"title\", \"score\"]]"
   ]
  },
  {
   "cell_type": "code",
   "execution_count": 32,
   "metadata": {},
   "outputs": [
    {
     "data": {
      "text/plain": [
       "0         9.0\n",
       "1         9.0\n",
       "2         8.5\n",
       "3         8.5\n",
       "4         8.5\n",
       "         ... \n",
       "18620     7.6\n",
       "18621     9.0\n",
       "18622     5.8\n",
       "18623    10.0\n",
       "18624    10.0\n",
       "Name: score, Length: 18625, dtype: float64"
      ]
     },
     "execution_count": 32,
     "metadata": {},
     "output_type": "execute_result"
    }
   ],
   "source": [
    "# Extract a Series from a DataFrame\n",
    "reviews[\"score\"]"
   ]
  },
  {
   "cell_type": "code",
   "execution_count": 21,
   "metadata": {
    "id": "4MQcwyIODUgx"
   },
   "outputs": [
    {
     "data": {
      "text/plain": [
       "0        False\n",
       "1        False\n",
       "2        False\n",
       "3        False\n",
       "4        False\n",
       "         ...  \n",
       "18620    False\n",
       "18621    False\n",
       "18622    False\n",
       "18623     True\n",
       "18624     True\n",
       "Name: score, Length: 18625, dtype: bool"
      ]
     },
     "execution_count": 21,
     "metadata": {},
     "output_type": "execute_result"
    }
   ],
   "source": [
    "# Indexing using boolean masks\n",
    "mask = reviews[\"score\"] >= 9.5\n",
    "mask  # series of booleans"
   ]
  },
  {
   "cell_type": "code",
   "execution_count": 22,
   "metadata": {
    "id": "MW4o9dKkDUgy"
   },
   "outputs": [
    {
     "name": "stdout",
     "output_type": "stream",
     "text": [
      "33                   Pokemon White Version 2\n",
      "35                   Pokemon Black Version 2\n",
      "52       The World Ends with You: Solo Remix\n",
      "54       The World Ends with You: Solo Remix\n",
      "135        Zero Escape: Virtue's Last Reward\n",
      "                        ...                 \n",
      "18511                                 Inside\n",
      "18562                Odin Sphere Leifthrasir\n",
      "18563                Odin Sphere Leifthrasir\n",
      "18623                                 Inside\n",
      "18624                                 Inside\n",
      "Name: title, Length: 385, dtype: object\n"
     ]
    }
   ],
   "source": [
    "# Retrieval of title of the games with a score >=9.5\n",
    "cool_games = reviews[mask][\"title\"]\n",
    "print(cool_games)"
   ]
  },
  {
   "cell_type": "markdown",
   "metadata": {
    "id": "kDL_BnIbDUgy"
   },
   "source": [
    "The following are some functions that can be used to get information about a DataFrame and do some maths with numeric columns:"
   ]
  },
  {
   "attachments": {},
   "cell_type": "markdown",
   "metadata": {},
   "source": [
    "## And beyond...\n",
    "\n",
    "What has been described so far is just a small portion of what `pandas` can do for you. A more in-depth and systematic analysis (partially overlapping with that just done) can be found [here](https://www.learndatasci.com/tutorials/python-pandas-tutorial-complete-introduction-for-beginners/)."
   ]
  },
  {
   "cell_type": "markdown",
   "metadata": {},
   "source": [
    "## A bit of Data Visualization with Matplotlib\n",
    "\n",
    "The most widely used library for making graphs is matplotlib"
   ]
  },
  {
   "cell_type": "code",
   "execution_count": 23,
   "metadata": {},
   "outputs": [],
   "source": [
    "import matplotlib.pyplot as plt"
   ]
  },
  {
   "cell_type": "code",
   "execution_count": 24,
   "metadata": {},
   "outputs": [
    {
     "data": {
      "image/png": "[encoded data removed]",
      "text/plain": [
       "<Figure size 432x288 with 1 Axes>"
      ]
     },
     "metadata": {
      "needs_background": "light"
     },
     "output_type": "display_data"
    }
   ],
   "source": [
    "# histogram\n",
    "_ = plt.hist(reviews[\"score\"])"
   ]
  },
  {
   "cell_type": "code",
   "execution_count": 25,
   "metadata": {},
   "outputs": [
    {
     "data": {
      "image/png": "[encoded data removed]",
      "text/plain": [
       "<Figure size 432x288 with 1 Axes>"
      ]
     },
     "metadata": {
      "needs_background": "light"
     },
     "output_type": "display_data"
    }
   ],
   "source": [
    "# plot a series of numbers (the x axis is the index of the series, by default a sequence of integers starting from 0)\n",
    "y = [2, 4, 5, 6, 10, 2, 13, 10]\n",
    "_ = plt.plot(y)"
   ]
  },
  {
   "cell_type": "code",
   "execution_count": 26,
   "metadata": {},
   "outputs": [
    {
     "data": {
      "image/png": "[encoded data removed]",
      "text/plain": [
       "<Figure size 432x288 with 1 Axes>"
      ]
     },
     "metadata": {
      "needs_background": "light"
     },
     "output_type": "display_data"
    }
   ],
   "source": [
    "# we can modify the style of the plot\n",
    "_ = plt.plot(y, 'o')"
   ]
  },
  {
   "cell_type": "code",
   "execution_count": 27,
   "metadata": {},
   "outputs": [
    {
     "data": {
      "image/png": "[encoded data removed]",
      "text/plain": [
       "<Figure size 432x288 with 1 Axes>"
      ]
     },
     "metadata": {
      "needs_background": "light"
     },
     "output_type": "display_data"
    }
   ],
   "source": [
    "# We can show a set of coordinates (x, y)\n",
    "x = [10, 10, 4, 4, 7]\n",
    "y = [5, 3, 5, 3, 4]\n",
    "\n",
    "_ = plt.plot(x, y, 'o', color='purple')"
   ]
  },
  {
   "cell_type": "markdown",
   "metadata": {},
   "source": [
    "It is also possible to make more complex graphs, but it is often necessary to look for examples for each specific case on the internet, e.g., \"barplot with matplotlib.\""
   ]
  },
  {
   "cell_type": "code",
   "execution_count": 28,
   "metadata": {},
   "outputs": [
    {
     "data": {
      "image/png": "[encoded data removed]",
      "text/plain": [
       "<Figure size 432x288 with 1 Axes>"
      ]
     },
     "metadata": {
      "needs_background": "light"
     },
     "output_type": "display_data"
    }
   ],
   "source": [
    "counts_per_genre = reviews['score_phrase'].value_counts()\n",
    "plt.bar(counts_per_genre.index, counts_per_genre)\n",
    "plt.xticks(rotation=90)\n",
    "\n",
    "# We can add the title and the labels of the axes\n",
    "plt.title('Number of reviews per rating')\n",
    "plt.xlabel('Rating')\n",
    "_ = plt.ylabel('Number of reviews')"
   ]
  },
  {
   "cell_type": "markdown",
   "metadata": {},
   "source": [
    "Remember that it is not important to remember how to make each type of chart, instead you need to know how to search for what you need on the internet and adapt it to your case!"
   ]
  }
 ],
 "metadata": {
  "colab": {
   "include_colab_link": true,
   "provenance": []
  },
  "kernelspec": {
   "display_name": "Python 3",
   "language": "python",
   "name": "python3"
  },
  "language_info": {
   "codemirror_mode": {
    "name": "ipython",
    "version": 3
   },
   "file_extension": ".py",
   "mimetype": "text/x-python",
   "name": "python",
   "nbconvert_exporter": "python",
   "pygments_lexer": "ipython3",
   "version": "3.10.12"
  }
 },
 "nbformat": 4,
 "nbformat_minor": 0
}
