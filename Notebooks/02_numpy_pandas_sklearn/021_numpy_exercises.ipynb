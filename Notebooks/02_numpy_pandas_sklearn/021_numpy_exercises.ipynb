{
 "cells": [
  {
   "cell_type": "markdown",
   "metadata": {},
   "source": [
    "<a href=\"https://colab.research.google.com/github/DavideScassola/PML2024/blob/main/Notebooks/02_numpy_pandas_sklearn/021_numpy_exercises.ipynb\" target=\"_parent\"><img src=\"https://colab.research.google.com/assets/colab-badge.svg\" alt=\"Open In Colab\"/></a>"
   ]
  },
  {
   "attachments": {},
   "cell_type": "markdown",
   "metadata": {},
   "source": [
    "# Numpy exercises\n",
    "\n",
    "Probabilistic Machine Learning -- Spring 2024, UniTS\n",
    "\n",
    "### <ins>No loops allowed!<ins>\n",
    "(also list comprehension is not allowed)"
   ]
  },
  {
   "cell_type": "markdown",
   "metadata": {},
   "source": [
    "## Exercise 1"
   ]
  },
  {
   "cell_type": "markdown",
   "metadata": {},
   "source": [
    "Compute the empirical correlation coefficient between the given obsevations `x` and `y`:\n",
    "\n",
    "$$\\rho[x,y] = \\frac{cov[x,y]}{\\sigma_x \\sigma_y}$$ "
   ]
  },
  {
   "cell_type": "code",
   "execution_count": 1,
   "metadata": {},
   "outputs": [],
   "source": [
    "import numpy as np\n",
    "np.random.seed(0)\n",
    "x = np.random.normal(0, 1, 1000)\n",
    "y = 2*x + np.random.normal(0, 1, 1000)"
   ]
  },
  {
   "cell_type": "markdown",
   "metadata": {},
   "source": [
    "### Solution"
   ]
  },
  {
   "cell_type": "code",
   "execution_count": 2,
   "metadata": {},
   "outputs": [
    {
     "data": {
      "text/plain": [
       "0.8951815276982953"
      ]
     },
     "execution_count": 2,
     "metadata": {},
     "output_type": "execute_result"
    }
   ],
   "source": [
    "(np.mean(x*y) - np.mean(x)*np.mean(y))/(np.std(x)*np.std(y))"
   ]
  },
  {
   "cell_type": "markdown",
   "metadata": {},
   "source": [
    "## Exercise 2"
   ]
  },
  {
   "cell_type": "markdown",
   "metadata": {},
   "source": [
    "Define a function that computes the mean squared error between an array of observaions `y` and an array of predictions `pred`:\n",
    "\n",
    "$$MSE(y,\\hat{y}) := \\frac{1}{n} \\sum_{i=1}^{n} (y - \\hat{y})^2$$"
   ]
  },
  {
   "cell_type": "code",
   "execution_count": 3,
   "metadata": {},
   "outputs": [],
   "source": [
    "np.random.seed(0)\n",
    "y = np.random.normal(0, 1, 1000)\n",
    "pred = y + np.random.normal(0, 0.4, 1000)"
   ]
  },
  {
   "cell_type": "markdown",
   "metadata": {},
   "source": [
    "### Solution"
   ]
  },
  {
   "cell_type": "code",
   "execution_count": 4,
   "metadata": {},
   "outputs": [
    {
     "data": {
      "text/plain": [
       "0.15000306805541663"
      ]
     },
     "execution_count": 4,
     "metadata": {},
     "output_type": "execute_result"
    }
   ],
   "source": [
    "def mse(pred, y):\n",
    "    return np.mean((pred - y)**2)\n",
    "\n",
    "mse(pred, y)"
   ]
  },
  {
   "cell_type": "markdown",
   "metadata": {},
   "source": [
    "## Exercise 3"
   ]
  },
  {
   "cell_type": "markdown",
   "metadata": {},
   "source": [
    "Compute a matrix $M$ where $M_{i,j} := i \\times j$ for $i \\in \\{1,\\ldots,10\\}$ and $j \\in \\{1,\\ldots,10\\}$\n",
    "\n",
    "Hint: use broadcasting"
   ]
  },
  {
   "cell_type": "markdown",
   "metadata": {},
   "source": [
    "### Solution"
   ]
  },
  {
   "cell_type": "code",
   "execution_count": 5,
   "metadata": {},
   "outputs": [
    {
     "data": {
      "text/plain": [
       "array([[  1,   2,   3,   4,   5,   6,   7,   8,   9,  10],\n",
       "       [  2,   4,   6,   8,  10,  12,  14,  16,  18,  20],\n",
       "       [  3,   6,   9,  12,  15,  18,  21,  24,  27,  30],\n",
       "       [  4,   8,  12,  16,  20,  24,  28,  32,  36,  40],\n",
       "       [  5,  10,  15,  20,  25,  30,  35,  40,  45,  50],\n",
       "       [  6,  12,  18,  24,  30,  36,  42,  48,  54,  60],\n",
       "       [  7,  14,  21,  28,  35,  42,  49,  56,  63,  70],\n",
       "       [  8,  16,  24,  32,  40,  48,  56,  64,  72,  80],\n",
       "       [  9,  18,  27,  36,  45,  54,  63,  72,  81,  90],\n",
       "       [ 10,  20,  30,  40,  50,  60,  70,  80,  90, 100]])"
      ]
     },
     "execution_count": 5,
     "metadata": {},
     "output_type": "execute_result"
    }
   ],
   "source": [
    "x = np.arange(1, 11)\n",
    "x.reshape(-1,1) * x.reshape(1,-1)"
   ]
  },
  {
   "cell_type": "markdown",
   "metadata": {},
   "source": [
    "## Exercise 4"
   ]
  },
  {
   "cell_type": "markdown",
   "metadata": {},
   "source": [
    "Given the following `(8,3)` matrix `x`, build a matrix `y` such that row $y_{i} = x_{2i} + x_{2i -1}$"
   ]
  },
  {
   "cell_type": "code",
   "execution_count": 6,
   "metadata": {},
   "outputs": [
    {
     "data": {
      "text/plain": [
       "array([[ 0,  1,  2],\n",
       "       [ 3,  4,  5],\n",
       "       [ 6,  7,  8],\n",
       "       [ 9, 10, 11],\n",
       "       [12, 13, 14],\n",
       "       [15, 16, 17],\n",
       "       [18, 19, 20],\n",
       "       [21, 22, 23]])"
      ]
     },
     "execution_count": 6,
     "metadata": {},
     "output_type": "execute_result"
    }
   ],
   "source": [
    "x = np.arange(24).reshape(8,3)\n",
    "x"
   ]
  },
  {
   "cell_type": "markdown",
   "metadata": {},
   "source": [
    "### Solution"
   ]
  },
  {
   "cell_type": "code",
   "execution_count": 7,
   "metadata": {},
   "outputs": [
    {
     "data": {
      "text/plain": [
       "array([[ 3,  5,  7],\n",
       "       [15, 17, 19],\n",
       "       [27, 29, 31],\n",
       "       [39, 41, 43]])"
      ]
     },
     "execution_count": 7,
     "metadata": {},
     "output_type": "execute_result"
    }
   ],
   "source": [
    "x[::2] + x[1::2]"
   ]
  },
  {
   "cell_type": "markdown",
   "metadata": {},
   "source": [
    "## Exercise 5"
   ]
  },
  {
   "cell_type": "markdown",
   "metadata": {},
   "source": [
    "Write a function that given a scalar valued function `f`, an interval `[a,b]` and a number of steps `n` approximates $\\int_a^b f(x) \\ dx$ using the [trapezoidal rule](https://www.wikiwand.com/en/Trapezoidal_rule). Then test it on the following given function `g` in the interval `[-10,10]`.\n",
    "\n",
    "Hint: use the function `np.linspace`"
   ]
  },
  {
   "cell_type": "code",
   "execution_count": 8,
   "metadata": {},
   "outputs": [],
   "source": [
    "def g(x):\n",
    "    return (x**3 - 2*x - x**5 * np.sin(x))*np.exp(-0.2*x**2)\n",
    "\n",
    "def trapezoidal_rule(f, a, b, n):\n",
    "    pass"
   ]
  },
  {
   "cell_type": "markdown",
   "metadata": {},
   "source": [
    "### Solution"
   ]
  },
  {
   "cell_type": "code",
   "execution_count": null,
   "metadata": {},
   "outputs": [],
   "source": []
  },
  {
   "cell_type": "markdown",
   "metadata": {},
   "source": [
    "## Exercise 6"
   ]
  },
  {
   "cell_type": "markdown",
   "metadata": {},
   "source": [
    "Given the following `(1000, 5)` matrix `m` representing a set of n=`1000` observations having `5` features, compute the empirical correlation matrix:\n",
    "$$ R = \\frac{1}{n} X^t X $$\n",
    "where $X$ is the standardized data (centered in 0, rescaled to 1).\n",
    "\n",
    "Hint: use `.dot()` or `@` for matrix multiplication and `.T` for transposing"
   ]
  },
  {
   "cell_type": "code",
   "execution_count": 9,
   "metadata": {},
   "outputs": [],
   "source": [
    "np.random.seed(0)\n",
    "m = np.random.normal(0, 1, (1000, 5)).cumsum(axis=1)"
   ]
  },
  {
   "cell_type": "markdown",
   "metadata": {},
   "source": [
    "### Solution"
   ]
  },
  {
   "cell_type": "code",
   "execution_count": null,
   "metadata": {},
   "outputs": [],
   "source": []
  },
  {
   "cell_type": "markdown",
   "metadata": {},
   "source": [
    "## Exercise 7"
   ]
  },
  {
   "cell_type": "markdown",
   "metadata": {},
   "source": [
    "Compute a series of 1000 coordinates $(x_i,y_i)$ such that:\n",
    "$(x_0,y_0) = 0$ and $(x_{i+1},y_{i+1}) = (x_i + \\epsilon^x_i ,y_i + \\epsilon^y_i)$ where \n",
    "\n",
    "$\\epsilon^x_i \\sim \\mathcal{N}(0,1)$ and $\\epsilon^y_i \\sim \\mathcal{N}(0, 1)$\n",
    "\n",
    "Then visualize it using the following function (`plot_random_walk`, that takes as input an `(n,2)` shaped array).\n",
    "\n",
    "Hint: use the function `np.cumsum` "
   ]
  },
  {
   "cell_type": "code",
   "execution_count": 10,
   "metadata": {},
   "outputs": [
    {
     "data": {
      "text/plain": [
       "<Figure size 2400x1600 with 0 Axes>"
      ]
     },
     "metadata": {},
     "output_type": "display_data"
    }
   ],
   "source": [
    "import matplotlib.pyplot as plt\n",
    "plt.figure(dpi=400)\n",
    "\n",
    "def plot_random_walk(x):\n",
    "    plt.plot(x[:,0], x[:,1], alpha=0.8)"
   ]
  },
  {
   "cell_type": "markdown",
   "metadata": {},
   "source": [
    "### Solution"
   ]
  },
  {
   "cell_type": "code",
   "execution_count": null,
   "metadata": {},
   "outputs": [],
   "source": []
  },
  {
   "cell_type": "markdown",
   "metadata": {},
   "source": [
    "## Exercise 8"
   ]
  },
  {
   "cell_type": "markdown",
   "metadata": {},
   "source": [
    "Implement the [ReLU (rectified linear unit) activation function](https://www.wikiwand.com/en/Rectifier_(neural_networks)) in all the 3 ways showed in this formula:\n",
    "\n",
    "\n",
    "\n",
    "<div style=\"background-color:white;\">\n",
    "    <img src=\"https://wikimedia.org/api/rest_v1/media/math/render/svg/1b43bb9d7f851aa7c8ce8e4dacbd943d18512528\" width=\"600\">\n",
    "</div>\n",
    "\n",
    "then appliy it to the given array `x` and verify that results are equal.\n",
    "\n",
    "Hint: use `np.maximum`, `np.abs`, `np.where` for computing ReLu, use `==` and `np.all` for checking equality."
   ]
  },
  {
   "cell_type": "code",
   "execution_count": 11,
   "metadata": {},
   "outputs": [],
   "source": [
    "x = np.arange(10)-5"
   ]
  },
  {
   "cell_type": "markdown",
   "metadata": {},
   "source": [
    "### Solution"
   ]
  },
  {
   "cell_type": "code",
   "execution_count": null,
   "metadata": {},
   "outputs": [],
   "source": []
  },
  {
   "cell_type": "markdown",
   "metadata": {},
   "source": [
    "## Exercise 9"
   ]
  },
  {
   "cell_type": "markdown",
   "metadata": {},
   "source": [
    "The entropy of a discrete distribution $p$ is defined as:\n",
    "\n",
    "$$\\text{H}[p] := -\\mathbb{E}[\\log{p}(x)]$$\n",
    "\n",
    "compute it for the given array $p$ representing a discrete distribution."
   ]
  },
  {
   "cell_type": "code",
   "execution_count": 12,
   "metadata": {},
   "outputs": [],
   "source": [
    "p = np.array([0.1, 0.2, 0.0, 0.2, 0.5])"
   ]
  },
  {
   "cell_type": "markdown",
   "metadata": {},
   "source": [
    "### Solution"
   ]
  },
  {
   "cell_type": "code",
   "execution_count": null,
   "metadata": {},
   "outputs": [],
   "source": []
  },
  {
   "cell_type": "markdown",
   "metadata": {},
   "source": [
    "## Exercise 10"
   ]
  },
  {
   "cell_type": "markdown",
   "metadata": {},
   "source": [
    "The following array `price` with shape `(365, 7)` contains the prices of 7 different assets recorded at the end of 365 different days. The array `portfolio` of shape `(7,)` instead contains the amounts for each asset that you posses.\n",
    "\n",
    "Compute:\n",
    "- the total value of the portfolio $v_i$ at the end of each day\n",
    "- the value difference between consecutive days $v_i - v_{i-1}$\n",
    "- the value ratio between consecutive days $\\frac{v_i}{v_{i-1}}$\n",
    "- plot the price series of the third asset (using `plt.plot`)\n",
    "- plot $v_i$ (using `plt.plot`)"
   ]
  },
  {
   "cell_type": "code",
   "execution_count": 13,
   "metadata": {},
   "outputs": [
    {
     "data": {
      "text/plain": [
       "<Figure size 2400x1600 with 0 Axes>"
      ]
     },
     "metadata": {},
     "output_type": "display_data"
    }
   ],
   "source": [
    "import matplotlib.pyplot as plt\n",
    "plt.figure(dpi=400)\n",
    "\n",
    "def generate_prices(n):\n",
    "    rng = np.random.default_rng(13)\n",
    "    x = rng.normal(0,0.01,size=(n,7))\n",
    "    x[:,0] = 0.3*x[:,0] + 0.8*x[:,1] + 0.3*x[:,2]\n",
    "    x[:,4] = x[:,4] * 2\n",
    "    x[:,5:] = x[:,5:] * 0.5\n",
    "    x[:, 3] += 0.001\n",
    "    x = np.exp(np.cumsum(x, axis=0))\n",
    "    return x\n",
    "\n",
    "x = generate_prices(365)\n",
    "\n",
    "portfolio = np.array([12, 200, 100, 125, 50, 5, 100])"
   ]
  },
  {
   "cell_type": "markdown",
   "metadata": {},
   "source": [
    "### Solution"
   ]
  },
  {
   "cell_type": "code",
   "execution_count": null,
   "metadata": {},
   "outputs": [],
   "source": []
  }
 ],
 "metadata": {
  "colab": {
   "include_colab_link": true,
   "provenance": []
  },
  "kernelspec": {
   "display_name": "Python 3",
   "language": "python",
   "name": "python3"
  },
  "language_info": {
   "codemirror_mode": {
    "name": "ipython",
    "version": 3
   },
   "file_extension": ".py",
   "mimetype": "text/x-python",
   "name": "python",
   "nbconvert_exporter": "python",
   "pygments_lexer": "ipython3",
   "version": "3.10.12"
  }
 },
 "nbformat": 4,
 "nbformat_minor": 0
}
